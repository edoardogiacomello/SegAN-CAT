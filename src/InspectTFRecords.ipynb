{
 "cells": [
  {
   "cell_type": "code",
   "execution_count": 25,
   "metadata": {},
   "outputs": [
    {
     "data": {
      "text/plain": [
       "<module 'dataset_helpers' from '/home/DeepMRI/src/dataset_helpers.py'>"
      ]
     },
     "execution_count": 25,
     "metadata": {},
     "output_type": "execute_result"
    }
   ],
   "source": [
    "import tensorflow as tf\n",
    "import dataset_helpers as dh\n",
    "import numpy as np\n",
    "import matplotlib.pyplot as plt\n",
    "from ipywidgets import interact, IntSlider\n",
    "from importlib import reload\n",
    "reload(dh)"
   ]
  },
  {
   "cell_type": "code",
   "execution_count": 29,
   "metadata": {},
   "outputs": [],
   "source": [
    "\n",
    "train_dataset = dh.load_dataset('../datasets/brats2015-Train-all_training_crop_mri',\n",
    "                                mri_type=['MR_T1c', 'MR_T2', 'MR_Flair'],\n",
    "                                random_crop=[160,160,3],\n",
    "                                batch_size=64,\n",
    "                                prefetch_buffer=1,\n",
    "                                shuffle_buffer=128,\n",
    "                                cache=True,\n",
    "                                cast_to=np.float32,\n",
    "                                clip_labels_to=1.0)"
   ]
  },
  {
   "cell_type": "code",
   "execution_count": 30,
   "metadata": {},
   "outputs": [],
   "source": [
    "def load_all_records(dataset, limit_batches=None):\n",
    "    iterator = dataset.make_one_shot_iterator()\n",
    "    next_batch = iterator.get_next()\n",
    "    batches = []\n",
    "    with tf.Session() as sess: \n",
    "        while True:\n",
    "            try:\n",
    "                if len(batches) == (limit_batches or -1):\n",
    "                    break\n",
    "                batches += sess.run([next_batch])\n",
    "            except Exception as e:\n",
    "                print(e)\n",
    "                break\n",
    "    return batches\n",
    "records = load_all_records(train_dataset, limit_batches=3)"
   ]
  },
  {
   "cell_type": "code",
   "execution_count": 31,
   "metadata": {},
   "outputs": [
    {
     "data": {
      "application/vnd.jupyter.widget-view+json": {
       "model_id": "d7d444b9025b43e28ae8909beca5b510",
       "version_major": 2,
       "version_minor": 0
      },
      "text/plain": [
       "interactive(children=(IntSlider(value=0, description='r', max=2), IntSlider(value=0, description='s', max=63),…"
      ]
     },
     "metadata": {},
     "output_type": "display_data"
    },
    {
     "data": {
      "text/plain": [
       "<function __main__.view_slice(records, r, s)>"
      ]
     },
     "execution_count": 31,
     "metadata": {},
     "output_type": "execute_result"
    }
   ],
   "source": [
    "import matplotlib.pyplot as plt\n",
    "from ipywidgets import IntSlider, interact, fixed\n",
    "def view_slice(records, r, s):\n",
    "    batch = records[r]\n",
    "    mri = batch['mri'][s]\n",
    "    gt = batch['seg'][s]\n",
    "    \n",
    "    plt.figure(figsize=(16,9))\n",
    "    for i in range(mri.shape[-1]):\n",
    "        plt.subplot(1, mri.shape[-1]+1, i+1)\n",
    "        plt.imshow(mri[:,:,i])\n",
    "    plt.subplot(1, mri.shape[-1]+1, mri.shape[-1]+1)\n",
    "    plt.imshow(gt[:,:,0])\n",
    "interact(view_slice, records=fixed(records), r=IntSlider(min=0, max=len(records)-1), s=IntSlider(min=0, max=63))"
   ]
  },
  {
   "cell_type": "code",
   "execution_count": 32,
   "metadata": {},
   "outputs": [
    {
     "data": {
      "text/plain": [
       "(160, 160, 1)"
      ]
     },
     "execution_count": 32,
     "metadata": {},
     "output_type": "execute_result"
    }
   ],
   "source": [
    "records[0]['seg'][0].shape"
   ]
  },
  {
   "cell_type": "code",
   "execution_count": null,
   "metadata": {},
   "outputs": [],
   "source": []
  },
  {
   "cell_type": "code",
   "execution_count": null,
   "metadata": {},
   "outputs": [],
   "source": []
  },
  {
   "cell_type": "code",
   "execution_count": null,
   "metadata": {},
   "outputs": [],
   "source": []
  },
  {
   "cell_type": "code",
   "execution_count": null,
   "metadata": {},
   "outputs": [],
   "source": []
  }
 ],
 "metadata": {
  "kernelspec": {
   "display_name": "Python 3",
   "language": "python",
   "name": "python3"
  },
  "language_info": {
   "codemirror_mode": {
    "name": "ipython",
    "version": 3
   },
   "file_extension": ".py",
   "mimetype": "text/x-python",
   "name": "python",
   "nbconvert_exporter": "python",
   "pygments_lexer": "ipython3",
   "version": "3.5.2"
  }
 },
 "nbformat": 4,
 "nbformat_minor": 2
}
