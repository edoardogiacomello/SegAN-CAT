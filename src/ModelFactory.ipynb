{
 "cells": [
  {
   "cell_type": "code",
   "execution_count": 1,
   "metadata": {},
   "outputs": [],
   "source": [
    "from DeepMRI import DeepMRI\n",
    "import SegAN_IO_arch as arch"
   ]
  },
  {
   "cell_type": "markdown",
   "metadata": {},
   "source": [
    "## Model Factory\n",
    "This notebook is for combining layers from different models. After building the model, save a checkpoint and resume training from a python script like the other models (otherwise the training will reset each time).\n",
    "Remember to assign a new model_name to the target model, otherwise the checkpoints will be saved in the old folder."
   ]
  },
  {
   "cell_type": "code",
   "execution_count": 2,
   "metadata": {},
   "outputs": [
    {
     "name": "stdout",
     "output_type": "stream",
     "text": [
      "Using provided architecture\n",
      "Loaded history from models/Segan_IO_TF2_brats_on_FLAIR/log_train.csv\n",
      "Loaded history from models/Segan_IO_TF2_brats_on_FLAIR/log_valid.csv\n",
      "Loading models/Segan_IO_TF2_brats_on_FLAIR/best_dice_score_128-44\n",
      "Loaded model from: models/Segan_IO_TF2_brats_on_FLAIR/best_dice_score_128-44, next epoch: 422\n",
      "Using provided architecture\n",
      "Loading models/Segan_IO_TF2_bd2decide_on_T1/best_dice_score_24-27\n",
      "W: Your save path/modelname is different from the one you used to save the model.\n",
      "Imported history from models/Segan_IO_TF2_bd2decide_on_T1/log_train.csv at epoch 24\n",
      "Imported history from models/Segan_IO_TF2_bd2decide_on_T1/log_valid.csv at epoch 24\n",
      "Loaded model from: models/Segan_IO_TF2_bd2decide_on_T1/best_dice_score_24-27, next epoch: 24\n"
     ]
    }
   ],
   "source": [
    "# Load source and target models\n",
    "last_dst_epoch = 24 # Set this to keep the previous history of target_model_ckpt and go on from there\n",
    "source_model_name = \"Segan_IO_TF2_brats_on_FLAIR\"\n",
    "source_model_ckpt = 'models/Segan_IO_TF2_brats_on_FLAIR/best_dice_score_128-44'\n",
    "target_model_name = \"Transfer_BratsFLAIR_disc_Bc2T1_test\"\n",
    "target_model_ckpt = 'models/Segan_IO_TF2_bd2decide_on_T1/best_dice_score_24-27'\n",
    "\n",
    "\n",
    "src_model = DeepMRI(batch_size=64, size=160, mri_channels=1, model_name=source_model_name)\n",
    "src_model.build_model(load_model=source_model_ckpt, seed=1234567890, arch=arch)\n",
    "target_model = DeepMRI(batch_size=64, size=160, mri_channels=1, model_name=target_model_name)\n",
    "target_model.build_model(load_model=target_model_ckpt, seed=1234567890, arch=arch, current_epoch=last_dst_epoch)\n",
    "\n"
   ]
  },
  {
   "cell_type": "code",
   "execution_count": null,
   "metadata": {},
   "outputs": [],
   "source": []
  },
  {
   "cell_type": "code",
   "execution_count": 3,
   "metadata": {},
   "outputs": [],
   "source": [
    "# Combining models\n",
    "target_model.discriminator = src_model.discriminator\n"
   ]
  },
  {
   "cell_type": "code",
   "execution_count": 4,
   "metadata": {},
   "outputs": [],
   "source": [
    "target_model.ckpt.save(target_model.save_path+\"combined\")\n",
    "target_model.train_metrics.save()\n",
    "target_model.valid_metrics.save()"
   ]
  },
  {
   "cell_type": "code",
   "execution_count": 6,
   "metadata": {},
   "outputs": [
    {
     "data": {
      "text/html": [
       "<div>\n",
       "<style scoped>\n",
       "    .dataframe tbody tr th:only-of-type {\n",
       "        vertical-align: middle;\n",
       "    }\n",
       "\n",
       "    .dataframe tbody tr th {\n",
       "        vertical-align: top;\n",
       "    }\n",
       "\n",
       "    .dataframe thead th {\n",
       "        text-align: right;\n",
       "    }\n",
       "</style>\n",
       "<table border=\"1\" class=\"dataframe\">\n",
       "  <thead>\n",
       "    <tr style=\"text-align: right;\">\n",
       "      <th></th>\n",
       "      <th>epoch</th>\n",
       "      <th>loss_g</th>\n",
       "      <th>loss_d</th>\n",
       "      <th>sensitivity</th>\n",
       "      <th>specificity</th>\n",
       "      <th>false_positive_rate</th>\n",
       "      <th>precision</th>\n",
       "      <th>dice_score</th>\n",
       "      <th>balanced_accuracy</th>\n",
       "      <th>smooth_dice_loss</th>\n",
       "      <th>mae</th>\n",
       "    </tr>\n",
       "  </thead>\n",
       "  <tbody>\n",
       "  </tbody>\n",
       "</table>\n",
       "</div>"
      ],
      "text/plain": [
       "Empty DataFrame\n",
       "Columns: [epoch, loss_g, loss_d, sensitivity, specificity, false_positive_rate, precision, dice_score, balanced_accuracy, smooth_dice_loss, mae]\n",
       "Index: []"
      ]
     },
     "execution_count": 6,
     "metadata": {},
     "output_type": "execute_result"
    }
   ],
   "source": [
    "target_model.train_metrics.history"
   ]
  },
  {
   "cell_type": "code",
   "execution_count": null,
   "metadata": {},
   "outputs": [],
   "source": []
  }
 ],
 "metadata": {
  "kernelspec": {
   "display_name": "Python 3",
   "language": "python",
   "name": "python3"
  },
  "language_info": {
   "codemirror_mode": {
    "name": "ipython",
    "version": 3
   },
   "file_extension": ".py",
   "mimetype": "text/x-python",
   "name": "python",
   "nbconvert_exporter": "python",
   "pygments_lexer": "ipython3",
   "version": "3.6.8"
  }
 },
 "nbformat": 4,
 "nbformat_minor": 2
}
