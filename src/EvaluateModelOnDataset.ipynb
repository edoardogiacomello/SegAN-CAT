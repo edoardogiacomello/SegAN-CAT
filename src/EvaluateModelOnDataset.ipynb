{
 "cells": [
  {
   "cell_type": "code",
   "execution_count": 1,
   "metadata": {},
   "outputs": [
    {
     "ename": "KeyboardInterrupt",
     "evalue": "",
     "output_type": "error",
     "traceback": [
      "\u001b[0;31m---------------------------------------------------------------------------\u001b[0m",
      "\u001b[0;31mKeyboardInterrupt\u001b[0m                         Traceback (most recent call last)",
      "\u001b[0;32m<ipython-input-1-07dd35219c0c>\u001b[0m in \u001b[0;36m<module>\u001b[0;34m\u001b[0m\n\u001b[1;32m      3\u001b[0m \u001b[0;32mimport\u001b[0m \u001b[0mpandas\u001b[0m \u001b[0;32mas\u001b[0m \u001b[0mpd\u001b[0m\u001b[0;34m\u001b[0m\u001b[0;34m\u001b[0m\u001b[0m\n\u001b[1;32m      4\u001b[0m \u001b[0;32mimport\u001b[0m \u001b[0mseaborn\u001b[0m \u001b[0;32mas\u001b[0m \u001b[0msb\u001b[0m\u001b[0;34m\u001b[0m\u001b[0;34m\u001b[0m\u001b[0m\n\u001b[0;32m----> 5\u001b[0;31m \u001b[0;32mfrom\u001b[0m \u001b[0mDeepMRI\u001b[0m \u001b[0;32mimport\u001b[0m \u001b[0mDeepMRI\u001b[0m\u001b[0;34m\u001b[0m\u001b[0;34m\u001b[0m\u001b[0m\n\u001b[0m\u001b[1;32m      6\u001b[0m \u001b[0;32mimport\u001b[0m \u001b[0mmatplotlib\u001b[0m\u001b[0;34m.\u001b[0m\u001b[0mpyplot\u001b[0m \u001b[0;32mas\u001b[0m \u001b[0mplt\u001b[0m\u001b[0;34m\u001b[0m\u001b[0;34m\u001b[0m\u001b[0m\n\u001b[1;32m      7\u001b[0m \u001b[0;32mimport\u001b[0m \u001b[0mSegAN_IO_arch\u001b[0m \u001b[0;32mas\u001b[0m \u001b[0mSegAN_IO\u001b[0m\u001b[0;34m\u001b[0m\u001b[0;34m\u001b[0m\u001b[0m\n",
      "\u001b[0;32m/home/DeepMRI/src/DeepMRI.py\u001b[0m in \u001b[0;36m<module>\u001b[0;34m\u001b[0m\n\u001b[1;32m      3\u001b[0m \u001b[0;32mimport\u001b[0m \u001b[0mtensorflow\u001b[0m\u001b[0;34m.\u001b[0m\u001b[0mkeras\u001b[0m\u001b[0;34m.\u001b[0m\u001b[0mlayers\u001b[0m \u001b[0;32mas\u001b[0m \u001b[0mlayers\u001b[0m\u001b[0;34m\u001b[0m\u001b[0;34m\u001b[0m\u001b[0m\n\u001b[1;32m      4\u001b[0m \u001b[0;32mfrom\u001b[0m \u001b[0mtensorflow\u001b[0m\u001b[0;34m.\u001b[0m\u001b[0mkeras\u001b[0m \u001b[0;32mimport\u001b[0m \u001b[0mModel\u001b[0m\u001b[0;34m\u001b[0m\u001b[0;34m\u001b[0m\u001b[0m\n\u001b[0;32m----> 5\u001b[0;31m \u001b[0;32mimport\u001b[0m \u001b[0mdataset_helpers\u001b[0m \u001b[0;32mas\u001b[0m \u001b[0mdh\u001b[0m\u001b[0;34m\u001b[0m\u001b[0;34m\u001b[0m\u001b[0m\n\u001b[0m\u001b[1;32m      6\u001b[0m \u001b[0;32mimport\u001b[0m \u001b[0mnumpy\u001b[0m \u001b[0;32mas\u001b[0m \u001b[0mnp\u001b[0m\u001b[0;34m\u001b[0m\u001b[0;34m\u001b[0m\u001b[0m\n\u001b[1;32m      7\u001b[0m \u001b[0;32mimport\u001b[0m \u001b[0mos\u001b[0m\u001b[0;34m\u001b[0m\u001b[0;34m\u001b[0m\u001b[0m\n",
      "\u001b[0;32m/home/DeepMRI/src/dataset_helpers.py\u001b[0m in \u001b[0;36m<module>\u001b[0;34m\u001b[0m\n\u001b[1;32m      1\u001b[0m \u001b[0;32mimport\u001b[0m \u001b[0mnumpy\u001b[0m \u001b[0;32mas\u001b[0m \u001b[0mnp\u001b[0m\u001b[0;34m\u001b[0m\u001b[0;34m\u001b[0m\u001b[0m\n\u001b[0;32m----> 2\u001b[0;31m \u001b[0;32mimport\u001b[0m \u001b[0mSimpleITK\u001b[0m \u001b[0;32mas\u001b[0m \u001b[0msitk\u001b[0m\u001b[0;34m\u001b[0m\u001b[0;34m\u001b[0m\u001b[0m\n\u001b[0m\u001b[1;32m      3\u001b[0m \u001b[0;32mimport\u001b[0m \u001b[0mos\u001b[0m\u001b[0;34m\u001b[0m\u001b[0;34m\u001b[0m\u001b[0m\n\u001b[1;32m      4\u001b[0m \u001b[0;32mimport\u001b[0m \u001b[0mglob\u001b[0m\u001b[0;34m\u001b[0m\u001b[0;34m\u001b[0m\u001b[0m\n\u001b[1;32m      5\u001b[0m \u001b[0;32mimport\u001b[0m \u001b[0mpandas\u001b[0m \u001b[0;32mas\u001b[0m \u001b[0mpd\u001b[0m\u001b[0;34m\u001b[0m\u001b[0;34m\u001b[0m\u001b[0m\n",
      "\u001b[0;32m/usr/local/lib/python3.6/dist-packages/SimpleITK/__init__.py\u001b[0m in \u001b[0;36m<module>\u001b[0;34m\u001b[0m\n\u001b[0;32m----> 1\u001b[0;31m \u001b[0;32mfrom\u001b[0m \u001b[0;34m.\u001b[0m\u001b[0mSimpleITK\u001b[0m \u001b[0;32mimport\u001b[0m \u001b[0;34m*\u001b[0m\u001b[0;34m\u001b[0m\u001b[0;34m\u001b[0m\u001b[0m\n\u001b[0m",
      "\u001b[0;32m/usr/lib/python3.6/importlib/_bootstrap.py\u001b[0m in \u001b[0;36m_find_and_load\u001b[0;34m(name, import_)\u001b[0m\n",
      "\u001b[0;32m/usr/lib/python3.6/importlib/_bootstrap.py\u001b[0m in \u001b[0;36m_find_and_load_unlocked\u001b[0;34m(name, import_)\u001b[0m\n",
      "\u001b[0;32m/usr/lib/python3.6/importlib/_bootstrap.py\u001b[0m in \u001b[0;36m_load_unlocked\u001b[0;34m(spec)\u001b[0m\n",
      "\u001b[0;32m/usr/lib/python3.6/importlib/_bootstrap_external.py\u001b[0m in \u001b[0;36mexec_module\u001b[0;34m(self, module)\u001b[0m\n",
      "\u001b[0;32m/usr/lib/python3.6/importlib/_bootstrap_external.py\u001b[0m in \u001b[0;36mget_code\u001b[0;34m(self, fullname)\u001b[0m\n",
      "\u001b[0;32m/usr/lib/python3.6/importlib/_bootstrap_external.py\u001b[0m in \u001b[0;36m_compile_bytecode\u001b[0;34m(data, name, bytecode_path, source_path)\u001b[0m\n",
      "\u001b[0;31mKeyboardInterrupt\u001b[0m: "
     ]
    }
   ],
   "source": [
    "import tensorflow as tf\n",
    "import numpy as np\n",
    "import pandas as pd\n",
    "import seaborn as sb\n",
    "from DeepMRI import DeepMRI\n",
    "import matplotlib.pyplot as plt\n",
    "import SegAN_IO_arch as SegAN_IO\n",
    "import SegAN_IO_Concat_arch as SegAN_Concat"
   ]
  },
  {
   "cell_type": "markdown",
   "metadata": {},
   "source": [
    "### Evaluating SeganIO on every dataset modality\n",
    "This function allows to evaluate a model on a desired dataset. If you are using a mother other than SegAN_IO, please import it as arch"
   ]
  },
  {
   "cell_type": "code",
   "execution_count": 40,
   "metadata": {},
   "outputs": [],
   "source": [
    "def evaluate_on(modelname_to_load, checkpoint_to_load, target_datasets, target_mri_types, output_csv, arch=SegAN_IO):\n",
    "    '''\n",
    "    Evaluates a given model on a source dataset (the one it has been used for training) and then on a target dataset.\n",
    "    :param modelname_to_load: The name of the model to load\n",
    "    :param checkpoint_to_load: Filename of the checkpoint to load. Can be 'last'.\n",
    "    :param target_dataset: List of dataset names on which evaluate the model\n",
    "    :param target_mri_type: List of MRI types (as lists) on which evaluate the model.\n",
    "    :param output_csv: Where to store the results. The csv will contain one row for each evaluated dataset\n",
    "    '''\n",
    "\n",
    "    gan = DeepMRI(batch_size=64, size=160, mri_channels=len(target_mri_types[0]), model_name=modelname_to_load)\n",
    "    gan.build_model(load_model=gan.save_path+checkpoint_to_load, seed=1234567890, arch=arch)\n",
    "    \n",
    "    for target_dataset, target_mri_type in zip(target_datasets, target_mri_types):\n",
    "        print(\"\\nEvaluating on {}-{}\".format(target_dataset, ','.join(target_mri_type)))\n",
    "        gan.load_dataset(dataset=target_dataset, mri_types=target_mri_type)\n",
    "        gan.evaluate(output_csv)\n",
    "    \n",
    "    print(\"Decorating csv with dataset info\")\n",
    "    eval_log = pd.read_csv(output_csv, index_col=0)\n",
    "    eval_log['dataset'] =  target_datasets\n",
    "    eval_log['mri_types'] = [','.join(target_mri_type) for target_mri_type in target_mri_types]\n",
    "    eval_log.to_csv(output_csv)\n",
    "    print(\"Output saved to {}\".format(output_csv))\n",
    "    \n",
    "def plot_csv(output_csv, metrics=['dice_score', 'precision', 'sensitivity']):\n",
    "    log = pd.read_csv(output_csv, usecols=metrics + ['dataset', 'mri_types'])\n",
    "    log = log.set_index(['dataset', 'mri_types'])\n",
    "    stacked = log.stack()\n",
    "    stacked = stacked.rename_axis(index=['dataset', 'modality', 'metric'])\n",
    "    logdata = stacked.reset_index()\n",
    "    logdata = logdata.rename(columns={0:'value'})\n",
    "    plt.figure(figsize=(30,20))\n",
    "    sb.catplot(data=logdata, col='metric', col_wrap=3, hue='dataset', x='modality', y=\"value\", kind='bar', sharex=False)\n",
    "    plt.show()\n",
    "    \n",
    "def compare_models(output_csv, model_names, source_ds, source_mod, show_relative_performances, metrics=['dice_score', 'precision', 'sensitivity'], save_path=None):\n",
    "    df = None\n",
    "    val_column_name = 'rel_performance' if show_relative_performances else 'value'\n",
    "    for csv, model_name, src_ds, src_mod in zip(output_csv, model_names, source_ds, source_mod):\n",
    "        log = pd.read_csv(csv, usecols=metrics + ['dataset', 'mri_types'])\n",
    "        log['model'] = model_name\n",
    "        log = log.set_index(['model', 'dataset', 'mri_types'])\n",
    "        if show_relative_performances:\n",
    "            log = log / log.loc[model_name].loc[src_ds].loc[src_mod]\n",
    "        stacked = log.stack()\n",
    "        stacked = stacked.rename_axis(index=['model','dataset', 'modality', 'metric'])\n",
    "\n",
    "        logdata = stacked.reset_index()\n",
    "        logdata = logdata.rename(columns={0:val_column_name})\n",
    "        # Merge dataset and modality for visualization\n",
    "        logdata['dataset_and_modality'] = logdata['dataset']+ '_' +logdata['modality']\n",
    "        \n",
    "        if df is None:\n",
    "            df = logdata\n",
    "        else:\n",
    "            df = df.append(logdata, ignore_index=True)\n",
    "    sb.set_style(\"whitegrid\")\n",
    "    plot = sb.catplot(data=df, x='modality', y=val_column_name, row='metric', col='model', kind='bar')\n",
    "    #plot.set_xticklabels(rotation = 90, ha=\"right\")\n",
    "    plot.add_legend()\n",
    "    if save_path:\n",
    "        plt.savefig(save_path)\n",
    "    plt.show()\n",
    "    return df\n",
    "\n",
    "target_datasets = ['brats', 'brats', 'brats', 'brats', 'bd2decide', 'bd2decide']\n",
    "target_mri_types = [['MR_T1'],['MR_T1c'],['MR_T2'], ['MR_Flair'], ['T1'], ['T2']]"
   ]
  },
  {
   "cell_type": "markdown",
   "metadata": {},
   "source": [
    "#### Evaluating models trained on BRATS"
   ]
  },
  {
   "cell_type": "code",
   "execution_count": null,
   "metadata": {},
   "outputs": [],
   "source": [
    "# evaluate_on(modelname_to_load = \"Segan_IO_TF2_brats_on_T1\", \n",
    "#             checkpoint_to_load = 'best_dice_score_861-45', \n",
    "#             target_datasets = target_datasets, \n",
    "#             target_mri_types = target_mri_types, \n",
    "#             output_csv = 'transfer_performances/Segan_IO_TF2_brats_on_T1_base_performances.csv')\n",
    "\n",
    "\n",
    "# evaluate_on(modelname_to_load = \"Segan_IO_TF2_brats_on_T1c\", \n",
    "#             checkpoint_to_load = 'best_dice_score_1011-48', \n",
    "#             target_datasets = target_datasets, \n",
    "#             target_mri_types = target_mri_types, \n",
    "#             output_csv = 'transfer_performances/Segan_IO_TF2_brats_on_T1c_base_performances.csv')\n",
    "\n",
    "\n",
    "# evaluate_on(modelname_to_load = \"Segan_IO_TF2_brats_on_T2\", \n",
    "#             checkpoint_to_load = 'best_dice_score_182-25', \n",
    "#             target_datasets = target_datasets, \n",
    "#             target_mri_types = target_mri_types, \n",
    "#             output_csv = 'transfer_performances/Segan_IO_TF2_brats_on_T2_base_performances.csv')\n",
    "\n",
    "# evaluate_on(modelname_to_load = \"Segan_IO_TF2_brats_on_FLAIR\", \n",
    "#             checkpoint_to_load = 'best_dice_score_168-29', \n",
    "#             target_datasets = target_datasets, \n",
    "#             target_mri_types = target_mri_types, \n",
    "#             output_csv = 'transfer_performances/Segan_IO_TF2_brats_on_FLAIR_base_performances.csv')\n"
   ]
  },
  {
   "cell_type": "markdown",
   "metadata": {},
   "source": [
    "#### Evaluating models trained on Bd2Decide"
   ]
  },
  {
   "cell_type": "code",
   "execution_count": null,
   "metadata": {},
   "outputs": [],
   "source": [
    "evaluate_on(modelname_to_load = \"Segan_IO_TF2_bd2decide_on_T1\", \n",
    "            checkpoint_to_load = 'best_dice_score_2-3', \n",
    "            target_datasets = target_datasets,\n",
    "            target_mri_types = target_mri_types,\n",
    "            output_csv = 'transfer_performances/Segan_IO_TF2_bd2decide_on_T1_base_performances.csv')\n",
    "evaluate_on(modelname_to_load = \"Segan_IO_TF2_bd2decide_on_T2\", \n",
    "            checkpoint_to_load = 'best_dice_score_3-7', \n",
    "            target_datasets = target_datasets,\n",
    "            target_mri_types = target_mri_types,\n",
    "            output_csv = 'transfer_performances/Segan_IO_TF2_bd2decide_on_T2_base_performances.csv')"
   ]
  },
  {
   "cell_type": "markdown",
   "metadata": {},
   "source": [
    "#### Evaluating Transfer models"
   ]
  },
  {
   "cell_type": "code",
   "execution_count": null,
   "metadata": {},
   "outputs": [],
   "source": []
  },
  {
   "cell_type": "markdown",
   "metadata": {},
   "source": [
    "#### Evaluate Custom Models"
   ]
  },
  {
   "cell_type": "code",
   "execution_count": null,
   "metadata": {},
   "outputs": [],
   "source": []
  },
  {
   "cell_type": "code",
   "execution_count": null,
   "metadata": {},
   "outputs": [],
   "source": []
  },
  {
   "cell_type": "markdown",
   "metadata": {},
   "source": [
    "#### Visualize performances of every model against every dataset\n",
    "output_csv contains the list of csv generated in the previous secion. Fill source_ds and source_mod with the corresponding dataset and modality the model has been trained on."
   ]
  },
  {
   "cell_type": "code",
   "execution_count": 42,
   "metadata": {},
   "outputs": [
    {
     "data": {
      "image/png": "[encoded data removed]",
      "text/plain": [
       "<Figure size 2168x720 with 12 Axes>"
      ]
     },
     "metadata": {},
     "output_type": "display_data"
    }
   ],
   "source": [
    "#Show base models\n",
    "output_csv = [\"transfer_performances/Segan_IO_TF2_brats_on_T1_base_performances.csv\", \n",
    "              \"transfer_performances/Segan_IO_TF2_brats_on_T1c_base_performances.csv\", \n",
    "              \"transfer_performances/Segan_IO_TF2_brats_on_T2_base_performances.csv\",\n",
    "              \"transfer_performances/Segan_IO_TF2_brats_on_FLAIR_base_performances.csv\",\n",
    "              \"transfer_performances/Segan_IO_TF2_bd2decide_on_T1_base_performances.csv\",\n",
    "              \"transfer_performances/Segan_IO_TF2_bd2decide_on_T2_base_performances.csv\"]\n",
    "model_names = [\"Trained-on-Brats-T1\",\n",
    "               \"Trained-on-Brats-T1c\",\n",
    "               \"Trained-on-Brats-T2\",\n",
    "               \"Trained-on-Brats-FLAIR\",\n",
    "               \"Trained-on-B2D-T1\",\n",
    "               \"Trained-on-B2D-T2\"]\n",
    "source_ds = ['brats', 'brats', 'brats', 'brats', 'bd2decide', 'bd2decide']\n",
    "source_mod = ['MR_T1', 'MR_T1c', 'MR_T2', 'MR_Flair', 'T1', 'T2']\n",
    "performances = compare_models(output_csv, model_names, source_ds, source_mod,metrics=['dice_score', 'balanced_accuracy'], show_relative_performances=False, save_path='transfer_performances/base_performances.png')"
   ]
  },
  {
   "cell_type": "code",
   "execution_count": null,
   "metadata": {},
   "outputs": [],
   "source": []
  },
  {
   "cell_type": "code",
   "execution_count": null,
   "metadata": {},
   "outputs": [],
   "source": [
    "# Show performances of diferent models\n",
    "# Show transfer models\n",
    "\n",
    "output_csv = [\"transfer_performances/Segan_IO_TF2_brats_on_FLAIR_base_performances.csv\",\n",
    "              \"transfer_performances/Custom_MultiFOV_brats_on_FLAIR_base_performances.csv\"]\n",
    "model_names = [\"A:SegAN-IO-Brats-FLAIR\",\n",
    "               \"B:Custom-MultiFOV-Brats-FLAIR\"]\n",
    "source_ds = ['brats', 'brats']\n",
    "source_mod = ['MR_Flair', 'MR_Flair']\n",
    "performances = compare_models(output_csv, model_names, source_ds, source_mod, show_relative_performances=False, save_path='transfer_performances/model_performances.png')"
   ]
  },
  {
   "cell_type": "code",
   "execution_count": null,
   "metadata": {},
   "outputs": [],
   "source": []
  }
 ],
 "metadata": {
  "kernelspec": {
   "display_name": "Python 3",
   "language": "python",
   "name": "python3"
  },
  "language_info": {
   "codemirror_mode": {
    "name": "ipython",
    "version": 3
   },
   "file_extension": ".py",
   "mimetype": "text/x-python",
   "name": "python",
   "nbconvert_exporter": "python",
   "pygments_lexer": "ipython3",
   "version": "3.6.8"
  }
 },
 "nbformat": 4,
 "nbformat_minor": 2
}
