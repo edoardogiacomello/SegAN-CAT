{
 "cells": [
  {
   "cell_type": "code",
   "execution_count": 4,
   "metadata": {},
   "outputs": [],
   "source": [
    "import tensorflow as tf\n",
    "import dataset_helpers as dh\n",
    "import numpy as np\n",
    "import matplotlib.pyplot as plt\n",
    "from ipywidgets import interact, IntSlider\n",
    "from importlib import reload\n",
    "#reload(dh)"
   ]
  },
  {
   "cell_type": "markdown",
   "metadata": {},
   "source": [
    "### Check brats balance vs bd2decide"
   ]
  },
  {
   "cell_type": "code",
   "execution_count": 21,
   "metadata": {},
   "outputs": [],
   "source": [
    "bd2decide_train =  lambda: dh.load_dataset('../datasets/BD2Decide-T1T2_training_crop_mri',\n",
    "                                    mri_type=[\"T1\", \"T2\"],\n",
    "                                    random_crop=None,\n",
    "                                    batch_size=64,\n",
    "                                    prefetch_buffer=1,\n",
    "                                    clip_labels_to=1.0,\n",
    "                                    infinite=False, \n",
    "                                    cache=False\n",
    "                                    )\n",
    "brats_train =  lambda: dh.load_dataset('../datasets/brats2015_training_crop_mri',\n",
    "                                    mri_type=[\"MR_T1\", \"MR_T2\"],\n",
    "                                    random_crop=None,\n",
    "                                    batch_size=64,\n",
    "                                    prefetch_buffer=1,\n",
    "                                    clip_labels_to=1.0,\n",
    "                                    infinite=False, \n",
    "                                    cache=False\n",
    "                                    )\n",
    "bd2decide_valid_crop =  lambda: dh.load_dataset('../datasets/BD2Decide-T1T2_validation_crop_mri',\n",
    "                                    mri_type=[\"T1\", \"T2\"],\n",
    "                                    center_crop=[160, 160, 2],\n",
    "                                    batch_size=64,\n",
    "                                    prefetch_buffer=1,\n",
    "                                    clip_labels_to=1.0,\n",
    "                                    infinite=False, \n",
    "                                    cache=False\n",
    "                                    )\n",
    "brats_valid_crop =  lambda: dh.load_dataset('../datasets/brats2015_validation_crop_mri',\n",
    "                                    mri_type=[\"MR_T1\", \"MR_T2\"],\n",
    "                                    center_crop=[160, 160, 2],\n",
    "                                    batch_size=64,\n",
    "                                    prefetch_buffer=1,\n",
    "                                    clip_labels_to=1.0,\n",
    "                                    infinite=False, \n",
    "                                    cache=False\n",
    "                                    )\n",
    "bd2decide_valid_nocrop =  lambda: dh.load_dataset('../datasets/BD2Decide-T1T2_validation_crop_mri',\n",
    "                                    mri_type=[\"T1\", \"T2\"],\n",
    "                                    batch_size=64,\n",
    "                                    prefetch_buffer=1,\n",
    "                                    clip_labels_to=1.0,\n",
    "                                    infinite=False, \n",
    "                                    cache=False\n",
    "                                    )\n",
    "brats_valid_nocrop =  lambda: dh.load_dataset('../datasets/brats2015_validation_crop_mri',\n",
    "                                    mri_type=[\"MR_T1\", \"MR_T2\"],\n",
    "                                    batch_size=64,\n",
    "                                    prefetch_buffer=1,\n",
    "                                    clip_labels_to=1.0,\n",
    "                                    infinite=False, \n",
    "                                    cache=False\n",
    "                                    )\n"
   ]
  },
  {
   "cell_type": "markdown",
   "metadata": {},
   "source": [
    "Here we check the ration between positive/negatives in the two training datasets (without random cropping)"
   ]
  },
  {
   "cell_type": "code",
   "execution_count": 9,
   "metadata": {},
   "outputs": [
    {
     "name": "stdout",
     "output_type": "stream",
     "text": [
      "727"
     ]
    }
   ],
   "source": [
    "brats_nonzero = []\n",
    "brats_allpixels = []\n",
    "bd2decide_nonzero = []\n",
    "bd2decide_allpixels = []\n",
    "\n",
    "for i, r in enumerate(brats_train()):\n",
    "    nonzero = tf.math.count_nonzero(r['seg'])\n",
    "    allpixels = r['seg'].shape[0]*r['seg'].shape[1]*r['seg'].shape[2]\n",
    "    brats_nonzero.append(nonzero.numpy())\n",
    "    brats_allpixels.append(allpixels)\n",
    "    print('\\r'+str(i), end=\"\")\n",
    "    \n",
    "for i, r in enumerate(bd2decide_train()):\n",
    "    nonzero = tf.math.count_nonzero(r['seg'])\n",
    "    allpixels = r['seg'].shape[0]*r['seg'].shape[1]*r['seg'].shape[2]\n",
    "    bd2decide_nonzero.append(nonzero.numpy())\n",
    "    bd2decide_allpixels.append(allpixels)\n",
    "    print('\\r'+str(i), end=\"\")"
   ]
  },
  {
   "cell_type": "code",
   "execution_count": 16,
   "metadata": {},
   "outputs": [
    {
     "name": "stdout",
     "output_type": "stream",
     "text": [
      "Brats ratio positive/negative:  0.02578538878847455\n",
      "BD2Decide ratio positive/negative:  0.003553189733202754\n"
     ]
    }
   ],
   "source": [
    "print(\"Brats ratio positive/pixels: \", sum(brats_nonzero) / sum(brats_allpixels))\n",
    "print(\"BD2Decide ratio positive/pixels: \", sum(bd2decide_nonzero) / sum(bd2decide_allpixels))"
   ]
  },
  {
   "cell_type": "markdown",
   "metadata": {},
   "source": [
    "Checking also for test and validation"
   ]
  },
  {
   "cell_type": "code",
   "execution_count": 22,
   "metadata": {},
   "outputs": [
    {
     "name": "stdout",
     "output_type": "stream",
     "text": [
      "53Brats validation (No-crop): 0.024208149362711477\n",
      "53Brats validation (crop): 0.03055282027633102\n",
      "91Brats validation (No-crop): 0.003342443723161567\n",
      "91Brats validation (crop): 0.0041163436226222825\n"
     ]
    }
   ],
   "source": [
    "brats_nonzero_valid_nc = []\n",
    "brats_allpixels_valid_nc = []\n",
    "brats_nonzero_valid = []\n",
    "brats_allpixels_valid = []\n",
    "bd2decide_nonzero_valid_nc = []\n",
    "bd2decide_allpixels_valid_nc = []\n",
    "bd2decide_nonzero_valid = []\n",
    "bd2decide_allpixels_valid = []\n",
    "\n",
    "\n",
    "\n",
    "for i, r in enumerate(brats_valid_nocrop()):\n",
    "    nonzero = tf.math.count_nonzero(r['seg'])\n",
    "    allpixels = r['seg'].shape[0]*r['seg'].shape[1]*r['seg'].shape[2]\n",
    "    brats_nonzero_valid_nc.append(nonzero.numpy())\n",
    "    brats_allpixels_valid_nc.append(allpixels)\n",
    "    print('\\r'+str(i), end=\"\")\n",
    "print('Brats validation (No-crop):', sum(brats_nonzero_valid_nc) / sum(brats_allpixels_valid_nc))\n",
    "\n",
    "for i, r in enumerate(brats_valid_crop()):\n",
    "    nonzero = tf.math.count_nonzero(r['seg'])\n",
    "    allpixels = r['seg'].shape[0]*r['seg'].shape[1]*r['seg'].shape[2]\n",
    "    brats_nonzero_valid.append(nonzero.numpy())\n",
    "    brats_allpixels_valid.append(allpixels)\n",
    "    print('\\r'+str(i), end=\"\")\n",
    "print('Brats validation (crop):', sum(brats_nonzero_valid) / sum(brats_allpixels_valid))   \n",
    "\n",
    "\n",
    "for i, r in enumerate(bd2decide_valid_nocrop()):\n",
    "    nonzero = tf.math.count_nonzero(r['seg'])\n",
    "    allpixels = r['seg'].shape[0]*r['seg'].shape[1]*r['seg'].shape[2]\n",
    "    bd2decide_nonzero_valid_nc.append(nonzero.numpy())\n",
    "    bd2decide_allpixels_valid_nc.append(allpixels)\n",
    "    print('\\r'+str(i), end=\"\")\n",
    "print('BD2Decide validation (No-crop):', sum(bd2decide_nonzero_valid_nc) / sum(bd2decide_allpixels_valid_nc))\n",
    "\n",
    "for i, r in enumerate(bd2decide_valid_crop()):\n",
    "    nonzero = tf.math.count_nonzero(r['seg'])\n",
    "    allpixels = r['seg'].shape[0]*r['seg'].shape[1]*r['seg'].shape[2]\n",
    "    bd2decide_nonzero_valid.append(nonzero.numpy())\n",
    "    bd2decide_allpixels_valid.append(allpixels)\n",
    "    print('\\r'+str(i), end=\"\")\n",
    "print('BD2Decide validation (crop):', sum(bd2decide_nonzero_valid) / sum(bd2decide_allpixels_valid)) "
   ]
  },
  {
   "cell_type": "code",
   "execution_count": null,
   "metadata": {},
   "outputs": [],
   "source": []
  },
  {
   "cell_type": "code",
   "execution_count": null,
   "metadata": {},
   "outputs": [],
   "source": []
  },
  {
   "cell_type": "code",
   "execution_count": null,
   "metadata": {},
   "outputs": [],
   "source": []
  },
  {
   "cell_type": "code",
   "execution_count": null,
   "metadata": {},
   "outputs": [],
   "source": [
    "import matplotlib.pyplot as plt\n",
    "from ipywidgets import IntSlider, interact, fixed\n",
    "def view_slice(records, r, s):\n",
    "    batch = records[r]\n",
    "    mri = batch['mri'][s]\n",
    "    gt = batch['seg'][s]\n",
    "    \n",
    "    plt.figure(figsize=(16,9))\n",
    "    for i in range(mri.shape[-1]):\n",
    "        plt.subplot(1, mri.shape[-1]+1, i+1)\n",
    "        plt.imshow(mri[:,:,i])\n",
    "    plt.subplot(1, mri.shape[-1]+1, mri.shape[-1]+1)\n",
    "    plt.imshow(gt[:,:,0])\n",
    "interact(view_slice, records=fixed(records), r=IntSlider(min=0, max=len(records)-1), s=IntSlider(min=0, max=63))"
   ]
  },
  {
   "cell_type": "code",
   "execution_count": null,
   "metadata": {},
   "outputs": [],
   "source": [
    "records[0]['seg'].max()"
   ]
  },
  {
   "cell_type": "code",
   "execution_count": null,
   "metadata": {},
   "outputs": [],
   "source": [
    "def count_all_records(dataset):\n",
    "    iterator = dataset.make_one_shot_iterator()\n",
    "    next_batch = iterator.get_next()\n",
    "    i = 0\n",
    "    with tf.Session() as sess: \n",
    "        while True:\n",
    "            try:\n",
    "                sess.run([next_batch])\n",
    "                i += 1\n",
    "                print(i)\n",
    "            except Exception as e:\n",
    "                print(e)\n",
    "                break\n",
    "    return i\n",
    "records = count_all_records(train_dataset)"
   ]
  },
  {
   "cell_type": "code",
   "execution_count": null,
   "metadata": {},
   "outputs": [],
   "source": []
  },
  {
   "cell_type": "code",
   "execution_count": null,
   "metadata": {},
   "outputs": [],
   "source": []
  },
  {
   "cell_type": "code",
   "execution_count": null,
   "metadata": {},
   "outputs": [],
   "source": []
  }
 ],
 "metadata": {
  "kernelspec": {
   "display_name": "Python 3",
   "language": "python",
   "name": "python3"
  },
  "language_info": {
   "codemirror_mode": {
    "name": "ipython",
    "version": 3
   },
   "file_extension": ".py",
   "mimetype": "text/x-python",
   "name": "python",
   "nbconvert_exporter": "python",
   "pygments_lexer": "ipython3",
   "version": "3.6.8"
  }
 },
 "nbformat": 4,
 "nbformat_minor": 2
}
