{
 "cells": [
  {
   "cell_type": "code",
   "execution_count": 1,
   "metadata": {},
   "outputs": [],
   "source": [
    "import pandas as pd\n",
    "import glob\n",
    "from DeepMRI import DeepMRI\n",
    "import SegAN_arch as segan_original\n",
    "import SegAN_IO_arch as seganio\n",
    "import seaborn as sb\n",
    "import matplotlib.pyplot as plt\n",
    "\n",
    "models_path = 'models/'\n",
    "\n",
    "sb.set_style(\"whitegrid\")\n",
    "sb.set_context(\"paper\", font_scale=2)\n",
    "\n",
    "brats2019 = {\n",
    "           'training':'brats2019_training_crop_mri',\n",
    "           'validation':'brats2019_validation_crop_mri',\n",
    "           'testing':'brats2019_testing_crop_mri'\n",
    "            }\n",
    "\n",
    "brats2015 = {\n",
    "           'training':'brats2015_training_crop_mri',\n",
    "           'validation':'brats2015_validation_crop_mri',\n",
    "           'testing':'brats2015_testing_crop_mri'\n",
    "            }\n",
    "\n"
   ]
  },
  {
   "cell_type": "markdown",
   "metadata": {},
   "source": [
    "## Print best models (validation) for each run in './models/'"
   ]
  },
  {
   "cell_type": "code",
   "execution_count": 2,
   "metadata": {},
   "outputs": [],
   "source": [
    "def run_evaluation(model_name, model_epoch, mri_types, architecture, dataset, dataset_split='both', tracked_metric='dice_score', output_labels=1, model_input_size=160, seed=1234567890):\n",
    "    assert dataset_split in ['testing', 'validation', 'both', 'merged']\n",
    "    model_checkpoint = glob.glob(models_path + model_name + '/' + 'best_' +  tracked_metric + '_' + str(model_epoch) + '*.index')[0].replace('.index', '')\n",
    "    gan = DeepMRI(batch_size=64, size=model_input_size, mri_channels=len(mri_types), output_labels=output_labels, model_name=model_name)\n",
    "    gan.load_dataset(dataset, mri_types)\n",
    "    gan.build_model(load_model=model_checkpoint, seed=seed, arch=architecture)\n",
    "    stat_metrics = ['true_positives', 'false_positives', 'false_negatives', 'true_negatives']\n",
    "    performances = pd.DataFrame()\n",
    "    if dataset_split in ['both', 'validation']:\n",
    "        valid_scores = gan.evaluate(dataset='validation')\n",
    "        valid_scores['run'] = 'validation'\n",
    "        valid_scores['model'] = model_name\n",
    "        performances = performances.append(valid_scores, ignore_index=True)\n",
    "    if dataset_split in ['both', 'testing']: \n",
    "        test_scores = gan.evaluate(dataset='testing')\n",
    "        test_scores['run'] = 'testing'\n",
    "        test_scores['model'] = model_name\n",
    "        performances = performances.append(test_scores, ignore_index=True)\n",
    "    if dataset_split == 'merged':\n",
    "        merged_scores = gan.evaluate(dataset='merged')\n",
    "        merged_scores['run'] = 'merged'\n",
    "        merged_scores['model'] = model_name\n",
    "        performances = performances.append(merged_scores, ignore_index=True)\n",
    "    return performances.set_index(['model', 'run'])\n",
    "    \n"
   ]
  },
  {
   "cell_type": "code",
   "execution_count": null,
   "metadata": {},
   "outputs": [],
   "source": [
    "metric='dice_score'\n",
    "for csv in glob.glob('models/*/log_valid.csv'):\n",
    "    modelname = csv.split('/')[1]\n",
    "    pdcsv = pd.read_csv(csv)\n",
    "    best = pdcsv.loc[pdcsv['dice_score'].idxmax()]\n",
    "    print(\"Model: {} - Best {} {} at epoch {}\".format(modelname, metric, best['dice_score'], best['epoch']))"
   ]
  },
  {
   "cell_type": "markdown",
   "metadata": {},
   "source": [
    "# Base Models (All Modalities)"
   ]
  },
  {
   "cell_type": "code",
   "execution_count": null,
   "metadata": {},
   "outputs": [],
   "source": [
    "base_paper = run_evaluation(\"Segan_TF2_brats_ALL\", model_epoch=1386, mri_types=[\"MR_T1\", \"MR_T1c\", \"MR_T2\", \"MR_Flair\"], architecture=segan_original, dataset=brats2015, dataset_split='merged')\n",
    "base_nodice = run_evaluation(\"Segan_NoDice_TF2_brats_ALL\", model_epoch=842, mri_types=[\"MR_T1\", \"MR_T1c\", \"MR_T2\", \"MR_Flair\"], architecture=segan_original, dataset=brats2015, dataset_split='merged')\n",
    "our_full = run_evaluation(\"Segan_IO_TF2_brats_ALL\", model_epoch=1123, mri_types=[\"MR_T1\", \"MR_T1c\", \"MR_T2\", \"MR_Flair\"], architecture=seganio, dataset=brats2015, dataset_split='merged')\n",
    "basemodels = pd.concat([base_paper, base_nodice, our_full])"
   ]
  },
  {
   "cell_type": "code",
   "execution_count": 3,
   "metadata": {},
   "outputs": [
    {
     "name": "stdout",
     "output_type": "stream",
     "text": [
      "Loading training dataset brats2019_training_crop_mri with modalities t1,t1ce,t2,flair\n",
      "Loading validation dataset brats2019_validation_crop_mri with modalities t1,t1ce,t2,flair\n",
      "Loading testing dataset brats2019_testing_crop_mri with modalities t1,t1ce,t2,flair\n",
      "Done.\n",
      "Using architecture: SegAN_arch\n",
      "Loading models/Segan_NoDice_TF2_brats2019_ALL/best_dice_score_0_138-24\n",
      "Resuming model from: models/Segan_NoDice_TF2_brats2019_ALL/best_dice_score_0_138-24, next epoch: 139\n",
      "     81/Unknown - 26s 318ms/step - loss_g: 0.8072 - loss_d: -0.1131"
     ]
    },
    {
     "data": {
      "text/html": [
       "<div>\n",
       "<style scoped>\n",
       "    .dataframe tbody tr th:only-of-type {\n",
       "        vertical-align: middle;\n",
       "    }\n",
       "\n",
       "    .dataframe tbody tr th {\n",
       "        vertical-align: top;\n",
       "    }\n",
       "\n",
       "    .dataframe thead th {\n",
       "        text-align: right;\n",
       "    }\n",
       "</style>\n",
       "<table border=\"1\" class=\"dataframe\">\n",
       "  <thead>\n",
       "    <tr style=\"text-align: right;\">\n",
       "      <th></th>\n",
       "      <th></th>\n",
       "      <th>dice_score_0</th>\n",
       "      <th>precision_0</th>\n",
       "      <th>sensitivity_0</th>\n",
       "      <th>loss_g</th>\n",
       "      <th>loss_d</th>\n",
       "      <th>learning_rate_g</th>\n",
       "      <th>learning_rate_d</th>\n",
       "      <th>dice_score_complete_tumor_2019</th>\n",
       "      <th>precision_complete_tumor_2019</th>\n",
       "      <th>sensitivity_complete_tumor_2019</th>\n",
       "      <th>...</th>\n",
       "      <th>dice_score_complete_tumor</th>\n",
       "      <th>precision_complete_tumor</th>\n",
       "      <th>sensitivity_complete_tumor</th>\n",
       "      <th>dice_score_tumor_core</th>\n",
       "      <th>precision_tumor_core</th>\n",
       "      <th>sensitivity_tumor_core</th>\n",
       "      <th>dice_score_enhancing_tumor</th>\n",
       "      <th>precision_enhancing_tumor</th>\n",
       "      <th>sensitivity_enhancing_tumor</th>\n",
       "      <th>epoch</th>\n",
       "    </tr>\n",
       "    <tr>\n",
       "      <th>model</th>\n",
       "      <th>run</th>\n",
       "      <th></th>\n",
       "      <th></th>\n",
       "      <th></th>\n",
       "      <th></th>\n",
       "      <th></th>\n",
       "      <th></th>\n",
       "      <th></th>\n",
       "      <th></th>\n",
       "      <th></th>\n",
       "      <th></th>\n",
       "      <th></th>\n",
       "      <th></th>\n",
       "      <th></th>\n",
       "      <th></th>\n",
       "      <th></th>\n",
       "      <th></th>\n",
       "      <th></th>\n",
       "      <th></th>\n",
       "      <th></th>\n",
       "      <th></th>\n",
       "      <th></th>\n",
       "    </tr>\n",
       "  </thead>\n",
       "  <tbody>\n",
       "    <tr>\n",
       "      <th>Segan_NoDice_TF2_brats2019_ALL</th>\n",
       "      <th>validation</th>\n",
       "      <td>0.766374</td>\n",
       "      <td>0.745271</td>\n",
       "      <td>0.833709</td>\n",
       "      <td>0.805934</td>\n",
       "      <td>-0.114401</td>\n",
       "      <td>0.00002</td>\n",
       "      <td>0.00002</td>\n",
       "      <td>NaN</td>\n",
       "      <td>NaN</td>\n",
       "      <td>NaN</td>\n",
       "      <td>...</td>\n",
       "      <td>NaN</td>\n",
       "      <td>NaN</td>\n",
       "      <td>NaN</td>\n",
       "      <td>NaN</td>\n",
       "      <td>NaN</td>\n",
       "      <td>NaN</td>\n",
       "      <td>NaN</td>\n",
       "      <td>NaN</td>\n",
       "      <td>NaN</td>\n",
       "      <td>0</td>\n",
       "    </tr>\n",
       "  </tbody>\n",
       "</table>\n",
       "<p>1 rows × 23 columns</p>\n",
       "</div>"
      ],
      "text/plain": [
       "                                           dice_score_0  precision_0  \\\n",
       "model                          run                                     \n",
       "Segan_NoDice_TF2_brats2019_ALL validation      0.766374     0.745271   \n",
       "\n",
       "                                           sensitivity_0    loss_g    loss_d  \\\n",
       "model                          run                                             \n",
       "Segan_NoDice_TF2_brats2019_ALL validation       0.833709  0.805934 -0.114401   \n",
       "\n",
       "                                           learning_rate_g  learning_rate_d  \\\n",
       "model                          run                                            \n",
       "Segan_NoDice_TF2_brats2019_ALL validation          0.00002          0.00002   \n",
       "\n",
       "                                           dice_score_complete_tumor_2019  \\\n",
       "model                          run                                          \n",
       "Segan_NoDice_TF2_brats2019_ALL validation                             NaN   \n",
       "\n",
       "                                           precision_complete_tumor_2019  \\\n",
       "model                          run                                         \n",
       "Segan_NoDice_TF2_brats2019_ALL validation                            NaN   \n",
       "\n",
       "                                           sensitivity_complete_tumor_2019  \\\n",
       "model                          run                                           \n",
       "Segan_NoDice_TF2_brats2019_ALL validation                              NaN   \n",
       "\n",
       "                                           ...  dice_score_complete_tumor  \\\n",
       "model                          run         ...                              \n",
       "Segan_NoDice_TF2_brats2019_ALL validation  ...                        NaN   \n",
       "\n",
       "                                           precision_complete_tumor  \\\n",
       "model                          run                                    \n",
       "Segan_NoDice_TF2_brats2019_ALL validation                       NaN   \n",
       "\n",
       "                                           sensitivity_complete_tumor  \\\n",
       "model                          run                                      \n",
       "Segan_NoDice_TF2_brats2019_ALL validation                         NaN   \n",
       "\n",
       "                                           dice_score_tumor_core  \\\n",
       "model                          run                                 \n",
       "Segan_NoDice_TF2_brats2019_ALL validation                    NaN   \n",
       "\n",
       "                                           precision_tumor_core  \\\n",
       "model                          run                                \n",
       "Segan_NoDice_TF2_brats2019_ALL validation                   NaN   \n",
       "\n",
       "                                           sensitivity_tumor_core  \\\n",
       "model                          run                                  \n",
       "Segan_NoDice_TF2_brats2019_ALL validation                     NaN   \n",
       "\n",
       "                                           dice_score_enhancing_tumor  \\\n",
       "model                          run                                      \n",
       "Segan_NoDice_TF2_brats2019_ALL validation                         NaN   \n",
       "\n",
       "                                           precision_enhancing_tumor  \\\n",
       "model                          run                                     \n",
       "Segan_NoDice_TF2_brats2019_ALL validation                        NaN   \n",
       "\n",
       "                                           sensitivity_enhancing_tumor  epoch  \n",
       "model                          run                                             \n",
       "Segan_NoDice_TF2_brats2019_ALL validation                          NaN      0  \n",
       "\n",
       "[1 rows x 23 columns]"
      ]
     },
     "execution_count": 3,
     "metadata": {},
     "output_type": "execute_result"
    }
   ],
   "source": [
    "base_nodice_2019 = run_evaluation(\"Segan_NoDice_TF2_brats2019_ALL\", model_epoch=138, mri_types=[\"t1\", \"t1ce\", \"t2\", \"flair\"], architecture=segan_original, dataset=brats2019, tracked_metric=\"dice_score_0\", dataset_split='validation')\n",
    "base_nodice_2019"
   ]
  },
  {
   "cell_type": "markdown",
   "metadata": {},
   "source": [
    "# Base Models (Single Modality)"
   ]
  },
  {
   "cell_type": "code",
   "execution_count": null,
   "metadata": {},
   "outputs": [],
   "source": [
    "flair = run_evaluation(\"Segan_IO_TF2_brats_on_FLAIR\", model_epoch=168, mri_types=[\"MR_Flair\"], architecture=seganio, dataset=brats2015, dataset_split='merged')\n",
    "t1 = run_evaluation(\"Segan_IO_TF2_brats_on_T1\", model_epoch=861, mri_types=[\"MR_T1\"], architecture=seganio, dataset=brats2015, dataset_split='merged')\n",
    "t1c = run_evaluation(\"Segan_IO_TF2_brats_on_T1c\", model_epoch=1011, mri_types=[\"MR_T1c\"], architecture=seganio, dataset=brats2015, dataset_split='merged')\n",
    "t2 = run_evaluation(\"Segan_IO_TF2_brats_on_T2\", model_epoch=182, mri_types=[\"MR_T2\"], architecture=seganio, dataset=brats2015, dataset_split='merged')\n",
    "singlemod = pd.concat([t1, t1c, t2, flair])"
   ]
  },
  {
   "cell_type": "markdown",
   "metadata": {},
   "source": [
    "# Performances of Base Models on Other Modalities"
   ]
  },
  {
   "cell_type": "code",
   "execution_count": 11,
   "metadata": {},
   "outputs": [],
   "source": [
    "## 2015"
   ]
  },
  {
   "cell_type": "code",
   "execution_count": null,
   "metadata": {},
   "outputs": [],
   "source": [
    "# T1\n",
    "t1_on_t1 = run_evaluation(\"Segan_IO_TF2_brats_on_T1\", model_epoch=861, mri_types=[\"MR_T1\"], architecture=seganio, dataset=brats2015, dataset_split='merged')\n",
    "t1_on_t1['Source Modality'] = \"T1\"\n",
    "t1_on_t1['Target Modality'] = \"T1\"\n",
    "\n",
    "t1_on_t1c = run_evaluation(\"Segan_IO_TF2_brats_on_T1\", model_epoch=861, mri_types=[\"MR_T1c\"], architecture=seganio, dataset=brats2015, dataset_split='merged')\n",
    "t1_on_t1c['Source Modality'] = \"T1\"\n",
    "t1_on_t1c['Target Modality'] = \"T1c\"\n",
    "\n",
    "t1_on_t2 = run_evaluation(\"Segan_IO_TF2_brats_on_T1\", model_epoch=861, mri_types=[\"MR_T2\"], architecture=seganio, dataset=brats2015, dataset_split='merged')\n",
    "t1_on_t2['Source Modality'] = \"T1\"\n",
    "t1_on_t2['Target Modality'] = \"T2\"\n",
    "\n",
    "t1_on_Flair = run_evaluation(\"Segan_IO_TF2_brats_on_T1\", model_epoch=861, mri_types=[\"MR_Flair\"], architecture=seganio, dataset=brats2015, dataset_split='merged')\n",
    "t1_on_Flair['Source Modality'] = \"T1\"\n",
    "t1_on_Flair['Target Modality'] = \"Flair\"\n",
    "\n",
    "# T1c\n",
    "t1c_on_t1 = run_evaluation(\"Segan_IO_TF2_brats_on_T1c\", model_epoch=1011, mri_types=[\"MR_T1\"], architecture=seganio, dataset=brats2015, dataset_split='merged')\n",
    "t1c_on_t1['Source Modality'] = \"T1c\"\n",
    "t1c_on_t1['Target Modality'] = \"T1\"\n",
    "t1c_on_t1c = run_evaluation(\"Segan_IO_TF2_brats_on_T1c\", model_epoch=1011, mri_types=[\"MR_T1c\"], architecture=seganio, dataset=brats2015, dataset_split='merged')\n",
    "t1c_on_t1c['Source Modality'] = \"T1c\"\n",
    "t1c_on_t1c['Target Modality'] = \"T1c\"\n",
    "t1c_on_t2 = run_evaluation(\"Segan_IO_TF2_brats_on_T1c\", model_epoch=1011, mri_types=[\"MR_T2\"], architecture=seganio, dataset=brats2015, dataset_split='merged')\n",
    "t1c_on_t2['Source Modality'] = \"T1c\"\n",
    "t1c_on_t2['Target Modality'] = \"T2\"\n",
    "t1c_on_Flair = run_evaluation(\"Segan_IO_TF2_brats_on_T1c\", model_epoch=1011, mri_types=[\"MR_Flair\"], architecture=seganio, dataset=brats2015, dataset_split='merged')\n",
    "t1c_on_Flair['Source Modality'] = \"T1c\"\n",
    "t1c_on_Flair['Target Modality'] = \"Flair\"\n",
    "\n",
    "# T2\n",
    "t2_on_t1 = run_evaluation(\"Segan_IO_TF2_brats_on_T2\", model_epoch=182, mri_types=[\"MR_T1\"], architecture=seganio, dataset=brats2015, dataset_split='merged')\n",
    "t2_on_t1['Source Modality'] = \"T2\"\n",
    "t2_on_t1['Target Modality'] = \"T1\"\n",
    "t2_on_t1c = run_evaluation(\"Segan_IO_TF2_brats_on_T2\", model_epoch=182, mri_types=[\"MR_T1c\"], architecture=seganio, dataset=brats2015, dataset_split='merged')\n",
    "t2_on_t1c['Source Modality'] = \"T2\"\n",
    "t2_on_t1c['Target Modality'] = \"T1c\"\n",
    "t2_on_t2 = run_evaluation(\"Segan_IO_TF2_brats_on_T2\", model_epoch=182, mri_types=[\"MR_T2\"], architecture=seganio, dataset=brats2015, dataset_split='merged')\n",
    "t2_on_t2['Source Modality'] = \"T2\"\n",
    "t2_on_t2['Target Modality'] = \"T2\"\n",
    "t2_on_Flair = run_evaluation(\"Segan_IO_TF2_brats_on_T2\", model_epoch=182, mri_types=[\"MR_Flair\"], architecture=seganio, dataset=brats2015, dataset_split='merged')\n",
    "t2_on_Flair['Source Modality'] = \"T2\"\n",
    "t2_on_Flair['Target Modality'] = \"Flair\"\n",
    "\n",
    "# FLAIR\n",
    "flair_on_t1 = run_evaluation(\"Segan_IO_TF2_brats_on_FLAIR\", model_epoch=168, mri_types=[\"MR_T1\"], architecture=seganio, dataset=brats2015, dataset_split='merged')\n",
    "flair_on_t1['Source Modality'] = \"Flair\"\n",
    "flair_on_t1['Target Modality'] = \"T1\"\n",
    "flair_on_t1c = run_evaluation(\"Segan_IO_TF2_brats_on_FLAIR\", model_epoch=168, mri_types=[\"MR_T1c\"], architecture=seganio, dataset=brats2015, dataset_split='merged')\n",
    "flair_on_t1c['Source Modality'] = \"Flair\"\n",
    "flair_on_t1c['Target Modality'] = \"T1c\"\n",
    "flair_on_t2 = run_evaluation(\"Segan_IO_TF2_brats_on_FLAIR\", model_epoch=168, mri_types=[\"MR_T2\"], architecture=seganio, dataset=brats2015, dataset_split='merged')\n",
    "flair_on_t2['Source Modality'] = \"Flair\"\n",
    "flair_on_t2['Target Modality'] = \"T2\"\n",
    "flair_on_Flair = run_evaluation(\"Segan_IO_TF2_brats_on_FLAIR\", model_epoch=168, mri_types=[\"MR_Flair\"], architecture=seganio, dataset=brats2015, dataset_split='merged')\n",
    "flair_on_Flair['Source Modality'] = \"Flair\"\n",
    "flair_on_Flair['Target Modality'] = \"Flair\""
   ]
  },
  {
   "cell_type": "code",
   "execution_count": 10,
   "metadata": {},
   "outputs": [],
   "source": [
    "base_performances = pd.DataFrame()\n",
    "base_performances = base_performances.append(t1_on_t1.reset_index(), ignore_index=True)\n",
    "base_performances = base_performances.append(t1_on_t1c.reset_index(), ignore_index=True)\n",
    "base_performances = base_performances.append(t1_on_t2.reset_index(), ignore_index=True)\n",
    "base_performances = base_performances.append(t1_on_Flair.reset_index(), ignore_index=True)\n",
    "base_performances = base_performances.append(t1c_on_t1.reset_index(), ignore_index=True)\n",
    "base_performances = base_performances.append(t1c_on_t1c.reset_index(), ignore_index=True)\n",
    "base_performances = base_performances.append(t1c_on_t2.reset_index(), ignore_index=True)\n",
    "base_performances = base_performances.append(t1c_on_Flair.reset_index(), ignore_index=True)\n",
    "base_performances = base_performances.append(t2_on_t1.reset_index(), ignore_index=True)\n",
    "base_performances = base_performances.append(t2_on_t1c.reset_index(), ignore_index=True)\n",
    "base_performances = base_performances.append(t2_on_t2.reset_index(), ignore_index=True)\n",
    "base_performances = base_performances.append(t2_on_Flair.reset_index(), ignore_index=True)\n",
    "base_performances = base_performances.append(flair_on_t1.reset_index(), ignore_index=True)\n",
    "base_performances = base_performances.append(flair_on_t1c.reset_index(), ignore_index=True)\n",
    "base_performances = base_performances.append(flair_on_t2.reset_index(), ignore_index=True)\n",
    "base_performances = base_performances.append(flair_on_Flair.reset_index(), ignore_index=True)\n",
    "\n",
    "base_performances.to_csv('results/base_models_on_other_modalities_2015.csv')"
   ]
  },
  {
   "cell_type": "code",
   "execution_count": 3,
   "metadata": {},
   "outputs": [
    {
     "name": "stdout",
     "output_type": "stream",
     "text": [
      "Loading training dataset brats2019_training_crop_mri with modalities t1\n",
      "Loading validation dataset brats2019_validation_crop_mri with modalities t1\n",
      "Loading testing dataset brats2019_testing_crop_mri with modalities t1\n",
      "Done.\n",
      "Using architecture: SegAN_IO_arch\n",
      "Loading models/Segan_IO_TF2_brats2019_T1/best_dice_score_0_124-10\n",
      "Resuming model from: models/Segan_IO_TF2_brats2019_T1/best_dice_score_0_124-10, next epoch: 125\n",
      "     81/Unknown - 25s 306ms/step - loss_g: 0.4709 - loss_d: -0.0957Loading training dataset brats2019_training_crop_mri with modalities t1ce\n",
      "Loading validation dataset brats2019_validation_crop_mri with modalities t1ce\n",
      "Loading testing dataset brats2019_testing_crop_mri with modalities t1ce\n",
      "Done.\n",
      "Using architecture: SegAN_IO_arch\n"
     ]
    },
    {
     "name": "stderr",
     "output_type": "stream",
     "text": [
      "WARNING: Logging before flag parsing goes to stderr.\n",
      "W0113 10:50:56.732568 140552759818048 util.py:244] Unresolved object in checkpoint: (root).d_optimizer.iter\n",
      "W0113 10:50:56.734035 140552759818048 util.py:252] A checkpoint was restored (e.g. tf.train.Checkpoint.restore or tf.keras.Model.load_weights) but not all checkpointed values were used. See above for specific issues. Use expect_partial() on the load status object, e.g. tf.train.Checkpoint.restore(...).expect_partial(), to silence these warnings, or use assert_consumed() to make the check explicit. See https://www.tensorflow.org/alpha/guide/checkpoints#loading_mechanics for details.\n"
     ]
    },
    {
     "name": "stdout",
     "output_type": "stream",
     "text": [
      "Loading models/Segan_IO_TF2_brats2019_T1/best_dice_score_0_124-10\n",
      "Resuming model from: models/Segan_IO_TF2_brats2019_T1/best_dice_score_0_124-10, next epoch: 125\n",
      "     81/Unknown - 21s 255ms/step - loss_g: 0.6990 - loss_d: -0.1385Loading training dataset brats2019_training_crop_mri with modalities t2\n",
      "Loading validation dataset brats2019_validation_crop_mri with modalities t2\n",
      "Loading testing dataset brats2019_testing_crop_mri with modalities t2\n",
      "Done.\n",
      "Using architecture: SegAN_IO_arch\n"
     ]
    },
    {
     "name": "stderr",
     "output_type": "stream",
     "text": [
      "W0113 10:51:20.077019 140552759818048 util.py:244] Unresolved object in checkpoint: (root).d_optimizer.iter\n",
      "W0113 10:51:20.078498 140552759818048 util.py:252] A checkpoint was restored (e.g. tf.train.Checkpoint.restore or tf.keras.Model.load_weights) but not all checkpointed values were used. See above for specific issues. Use expect_partial() on the load status object, e.g. tf.train.Checkpoint.restore(...).expect_partial(), to silence these warnings, or use assert_consumed() to make the check explicit. See https://www.tensorflow.org/alpha/guide/checkpoints#loading_mechanics for details.\n"
     ]
    },
    {
     "name": "stdout",
     "output_type": "stream",
     "text": [
      "Loading models/Segan_IO_TF2_brats2019_T1/best_dice_score_0_124-10\n",
      "Resuming model from: models/Segan_IO_TF2_brats2019_T1/best_dice_score_0_124-10, next epoch: 125\n",
      "     81/Unknown - 21s 254ms/step - loss_g: 1.3078 - loss_d: -0.4502Loading training dataset brats2019_training_crop_mri with modalities flair\n",
      "Loading validation dataset brats2019_validation_crop_mri with modalities flair\n",
      "Loading testing dataset brats2019_testing_crop_mri with modalities flair\n",
      "Done.\n",
      "Using architecture: SegAN_IO_arch\n"
     ]
    },
    {
     "name": "stderr",
     "output_type": "stream",
     "text": [
      "W0113 10:51:43.645481 140552759818048 util.py:244] Unresolved object in checkpoint: (root).d_optimizer.iter\n",
      "W0113 10:51:43.646933 140552759818048 util.py:252] A checkpoint was restored (e.g. tf.train.Checkpoint.restore or tf.keras.Model.load_weights) but not all checkpointed values were used. See above for specific issues. Use expect_partial() on the load status object, e.g. tf.train.Checkpoint.restore(...).expect_partial(), to silence these warnings, or use assert_consumed() to make the check explicit. See https://www.tensorflow.org/alpha/guide/checkpoints#loading_mechanics for details.\n"
     ]
    },
    {
     "name": "stdout",
     "output_type": "stream",
     "text": [
      "Loading models/Segan_IO_TF2_brats2019_T1/best_dice_score_0_124-10\n",
      "Resuming model from: models/Segan_IO_TF2_brats2019_T1/best_dice_score_0_124-10, next epoch: 125\n",
      "     81/Unknown - 21s 254ms/step - loss_g: 1.0932 - loss_d: -0.3124Loading training dataset brats2019_training_crop_mri with modalities t1\n",
      "Loading validation dataset brats2019_validation_crop_mri with modalities t1\n",
      "Loading testing dataset brats2019_testing_crop_mri with modalities t1\n",
      "Done.\n",
      "Using architecture: SegAN_IO_arch\n",
      "Loading models/Segan_IO_TF2_brats2019_T1ce/best_dice_score_0_597-17\n",
      "Resuming model from: models/Segan_IO_TF2_brats2019_T1ce/best_dice_score_0_597-17, next epoch: 598\n"
     ]
    },
    {
     "name": "stderr",
     "output_type": "stream",
     "text": [
      "W0113 10:52:08.350937 140552759818048 util.py:244] Unresolved object in checkpoint: (root).d_optimizer.iter\n",
      "W0113 10:52:08.352416 140552759818048 util.py:252] A checkpoint was restored (e.g. tf.train.Checkpoint.restore or tf.keras.Model.load_weights) but not all checkpointed values were used. See above for specific issues. Use expect_partial() on the load status object, e.g. tf.train.Checkpoint.restore(...).expect_partial(), to silence these warnings, or use assert_consumed() to make the check explicit. See https://www.tensorflow.org/alpha/guide/checkpoints#loading_mechanics for details.\n"
     ]
    },
    {
     "name": "stdout",
     "output_type": "stream",
     "text": [
      "     81/Unknown - 21s 259ms/step - loss_g: 0.6258 - loss_d: -0.2265Loading training dataset brats2019_training_crop_mri with modalities t1ce\n",
      "Loading validation dataset brats2019_validation_crop_mri with modalities t1ce\n",
      "Loading testing dataset brats2019_testing_crop_mri with modalities t1ce\n",
      "Done.\n",
      "Using architecture: SegAN_IO_arch\n",
      "Loading models/Segan_IO_TF2_brats2019_T1ce/best_dice_score_0_597-17\n",
      "Resuming model from: models/Segan_IO_TF2_brats2019_T1ce/best_dice_score_0_597-17, next epoch: 598\n",
      "     81/Unknown - 21s 255ms/step - loss_g: 0.5854 - loss_d: -0.2326Loading training dataset brats2019_training_crop_mri with modalities t2\n",
      "Loading validation dataset brats2019_validation_crop_mri with modalities t2\n",
      "Loading testing dataset brats2019_testing_crop_mri with modalities t2\n",
      "Done.\n",
      "Using architecture: SegAN_IO_arch\n"
     ]
    },
    {
     "name": "stderr",
     "output_type": "stream",
     "text": [
      "W0113 10:52:53.416624 140552759818048 util.py:244] Unresolved object in checkpoint: (root).d_optimizer.iter\n",
      "W0113 10:52:53.417936 140552759818048 util.py:252] A checkpoint was restored (e.g. tf.train.Checkpoint.restore or tf.keras.Model.load_weights) but not all checkpointed values were used. See above for specific issues. Use expect_partial() on the load status object, e.g. tf.train.Checkpoint.restore(...).expect_partial(), to silence these warnings, or use assert_consumed() to make the check explicit. See https://www.tensorflow.org/alpha/guide/checkpoints#loading_mechanics for details.\n",
      "W0113 10:52:53.423267 140552759818048 util.py:244] Unresolved object in checkpoint: (root).d_optimizer.iter\n",
      "W0113 10:52:53.424066 140552759818048 util.py:252] A checkpoint was restored (e.g. tf.train.Checkpoint.restore or tf.keras.Model.load_weights) but not all checkpointed values were used. See above for specific issues. Use expect_partial() on the load status object, e.g. tf.train.Checkpoint.restore(...).expect_partial(), to silence these warnings, or use assert_consumed() to make the check explicit. See https://www.tensorflow.org/alpha/guide/checkpoints#loading_mechanics for details.\n"
     ]
    },
    {
     "name": "stdout",
     "output_type": "stream",
     "text": [
      "Loading models/Segan_IO_TF2_brats2019_T1ce/best_dice_score_0_597-17\n",
      "Resuming model from: models/Segan_IO_TF2_brats2019_T1ce/best_dice_score_0_597-17, next epoch: 598\n",
      "     81/Unknown - 21s 255ms/step - loss_g: 2.0678 - loss_d: -1.2243Loading training dataset brats2019_training_crop_mri with modalities flair\n",
      "Loading validation dataset brats2019_validation_crop_mri with modalities flair\n",
      "Loading testing dataset brats2019_testing_crop_mri with modalities flair\n",
      "Done.\n",
      "Using architecture: SegAN_IO_arch\n",
      "Loading models/Segan_IO_TF2_brats2019_T1ce/best_dice_score_0_597-17\n",
      "Resuming model from: models/Segan_IO_TF2_brats2019_T1ce/best_dice_score_0_597-17, next epoch: 598\n",
      "     81/Unknown - 21s 254ms/step - loss_g: 1.2171 - loss_d: -0.5872Loading training dataset brats2019_training_crop_mri with modalities t1\n",
      "Loading validation dataset brats2019_validation_crop_mri with modalities t1\n",
      "Loading testing dataset brats2019_testing_crop_mri with modalities t1\n"
     ]
    },
    {
     "name": "stderr",
     "output_type": "stream",
     "text": [
      "W0113 10:53:39.070227 140552759818048 util.py:244] Unresolved object in checkpoint: (root).d_optimizer.iter\n",
      "W0113 10:53:39.071627 140552759818048 util.py:252] A checkpoint was restored (e.g. tf.train.Checkpoint.restore or tf.keras.Model.load_weights) but not all checkpointed values were used. See above for specific issues. Use expect_partial() on the load status object, e.g. tf.train.Checkpoint.restore(...).expect_partial(), to silence these warnings, or use assert_consumed() to make the check explicit. See https://www.tensorflow.org/alpha/guide/checkpoints#loading_mechanics for details.\n",
      "W0113 10:53:39.077032 140552759818048 util.py:244] Unresolved object in checkpoint: (root).d_optimizer.iter\n",
      "W0113 10:53:39.077864 140552759818048 util.py:252] A checkpoint was restored (e.g. tf.train.Checkpoint.restore or tf.keras.Model.load_weights) but not all checkpointed values were used. See above for specific issues. Use expect_partial() on the load status object, e.g. tf.train.Checkpoint.restore(...).expect_partial(), to silence these warnings, or use assert_consumed() to make the check explicit. See https://www.tensorflow.org/alpha/guide/checkpoints#loading_mechanics for details.\n"
     ]
    },
    {
     "name": "stdout",
     "output_type": "stream",
     "text": [
      "Done.\n",
      "Using architecture: SegAN_IO_arch\n",
      "Loading models/Segan_IO_TF2_brats2019_T2/best_dice_score_0_136-11\n",
      "Resuming model from: models/Segan_IO_TF2_brats2019_T2/best_dice_score_0_136-11, next epoch: 137\n",
      "     81/Unknown - 21s 255ms/step - loss_g: 1.2913 - loss_d: -0.4266Loading training dataset brats2019_training_crop_mri with modalities t1ce\n",
      "Loading validation dataset brats2019_validation_crop_mri with modalities t1ce\n",
      "Loading testing dataset brats2019_testing_crop_mri with modalities t1ce\n",
      "Done.\n",
      "Using architecture: SegAN_IO_arch\n",
      "Loading models/Segan_IO_TF2_brats2019_T2/best_dice_score_0_136-11\n",
      "Resuming model from: models/Segan_IO_TF2_brats2019_T2/best_dice_score_0_136-11, next epoch: 137\n",
      "     81/Unknown - 21s 256ms/step - loss_g: 1.1072 - loss_d: -0.2855Loading training dataset brats2019_training_crop_mri with modalities t2\n",
      "Loading validation dataset brats2019_validation_crop_mri with modalities t2\n",
      "Loading testing dataset brats2019_testing_crop_mri with modalities t2\n",
      "Done.\n",
      "Using architecture: SegAN_IO_arch\n"
     ]
    },
    {
     "name": "stderr",
     "output_type": "stream",
     "text": [
      "W0113 10:54:27.474389 140552759818048 util.py:244] Unresolved object in checkpoint: (root).d_optimizer.iter\n",
      "W0113 10:54:27.475749 140552759818048 util.py:252] A checkpoint was restored (e.g. tf.train.Checkpoint.restore or tf.keras.Model.load_weights) but not all checkpointed values were used. See above for specific issues. Use expect_partial() on the load status object, e.g. tf.train.Checkpoint.restore(...).expect_partial(), to silence these warnings, or use assert_consumed() to make the check explicit. See https://www.tensorflow.org/alpha/guide/checkpoints#loading_mechanics for details.\n",
      "W0113 10:54:27.480953 140552759818048 util.py:244] Unresolved object in checkpoint: (root).d_optimizer.iter\n",
      "W0113 10:54:27.481745 140552759818048 util.py:252] A checkpoint was restored (e.g. tf.train.Checkpoint.restore or tf.keras.Model.load_weights) but not all checkpointed values were used. See above for specific issues. Use expect_partial() on the load status object, e.g. tf.train.Checkpoint.restore(...).expect_partial(), to silence these warnings, or use assert_consumed() to make the check explicit. See https://www.tensorflow.org/alpha/guide/checkpoints#loading_mechanics for details.\n"
     ]
    },
    {
     "name": "stdout",
     "output_type": "stream",
     "text": [
      "Loading models/Segan_IO_TF2_brats2019_T2/best_dice_score_0_136-11\n",
      "Resuming model from: models/Segan_IO_TF2_brats2019_T2/best_dice_score_0_136-11, next epoch: 137\n",
      "     81/Unknown - 21s 256ms/step - loss_g: 0.5000 - loss_d: -0.0854Loading training dataset brats2019_training_crop_mri with modalities flair\n",
      "Loading validation dataset brats2019_validation_crop_mri with modalities flair\n",
      "Loading testing dataset brats2019_testing_crop_mri with modalities flair\n",
      "Done.\n",
      "Using architecture: SegAN_IO_arch\n",
      "Loading models/Segan_IO_TF2_brats2019_T2/best_dice_score_0_136-11\n",
      "Resuming model from: models/Segan_IO_TF2_brats2019_T2/best_dice_score_0_136-11, next epoch: 137\n",
      "     81/Unknown - 21s 254ms/step - loss_g: 0.5826 - loss_d: -0.1265Loading training dataset brats2019_training_crop_mri with modalities t1\n",
      "Loading validation dataset brats2019_validation_crop_mri with modalities t1\n",
      "Loading testing dataset brats2019_testing_crop_mri with modalities t1\n",
      "Done.\n",
      "Using architecture: SegAN_IO_arch\n",
      "Loading models/Segan_IO_TF2_brats2019_FLAIR/best_dice_score_0_89-10\n",
      "Resuming model from: models/Segan_IO_TF2_brats2019_FLAIR/best_dice_score_0_89-10, next epoch: 90\n",
      "     60/Unknown - 16s 258ms/step - loss_g: 1.0095 - loss_d: -0.2998"
     ]
    },
    {
     "name": "stderr",
     "output_type": "stream",
     "text": [
      "W0113 10:55:30.986872 140552759818048 util.py:244] Unresolved object in checkpoint: (root).d_optimizer.iter\n",
      "W0113 10:55:30.988150 140552759818048 util.py:252] A checkpoint was restored (e.g. tf.train.Checkpoint.restore or tf.keras.Model.load_weights) but not all checkpointed values were used. See above for specific issues. Use expect_partial() on the load status object, e.g. tf.train.Checkpoint.restore(...).expect_partial(), to silence these warnings, or use assert_consumed() to make the check explicit. See https://www.tensorflow.org/alpha/guide/checkpoints#loading_mechanics for details.\n",
      "W0113 10:55:30.993757 140552759818048 util.py:244] Unresolved object in checkpoint: (root).d_optimizer.iter\n",
      "W0113 10:55:30.994690 140552759818048 util.py:252] A checkpoint was restored (e.g. tf.train.Checkpoint.restore or tf.keras.Model.load_weights) but not all checkpointed values were used. See above for specific issues. Use expect_partial() on the load status object, e.g. tf.train.Checkpoint.restore(...).expect_partial(), to silence these warnings, or use assert_consumed() to make the check explicit. See https://www.tensorflow.org/alpha/guide/checkpoints#loading_mechanics for details.\n"
     ]
    },
    {
     "name": "stdout",
     "output_type": "stream",
     "text": [
      "     81/Unknown - 21s 256ms/step - loss_g: 1.0288 - loss_d: -0.3057Loading training dataset brats2019_training_crop_mri with modalities t1ce\n",
      "Loading validation dataset brats2019_validation_crop_mri with modalities t1ce\n",
      "Loading testing dataset brats2019_testing_crop_mri with modalities t1ce\n",
      "Done.\n",
      "Using architecture: SegAN_IO_arch\n",
      "Loading models/Segan_IO_TF2_brats2019_FLAIR/best_dice_score_0_89-10\n",
      "Resuming model from: models/Segan_IO_TF2_brats2019_FLAIR/best_dice_score_0_89-10, next epoch: 90\n",
      "     81/Unknown - 21s 254ms/step - loss_g: 0.7938 - loss_d: -0.1585Loading training dataset brats2019_training_crop_mri with modalities t2\n",
      "Loading validation dataset brats2019_validation_crop_mri with modalities t2\n",
      "Loading testing dataset brats2019_testing_crop_mri with modalities t2\n",
      "Done.\n",
      "Using architecture: SegAN_IO_arch\n",
      "Loading models/Segan_IO_TF2_brats2019_FLAIR/best_dice_score_0_89-10\n",
      "Resuming model from: models/Segan_IO_TF2_brats2019_FLAIR/best_dice_score_0_89-10, next epoch: 90\n",
      "     81/Unknown - 21s 255ms/step - loss_g: 0.7107 - loss_d: -0.1132Loading training dataset brats2019_training_crop_mri with modalities flair\n",
      "Loading validation dataset brats2019_validation_crop_mri with modalities flair\n",
      "Loading testing dataset brats2019_testing_crop_mri with modalities flair\n",
      "Done.\n",
      "Using architecture: SegAN_IO_arch\n",
      "Loading models/Segan_IO_TF2_brats2019_FLAIR/best_dice_score_0_89-10\n",
      "Resuming model from: models/Segan_IO_TF2_brats2019_FLAIR/best_dice_score_0_89-10, next epoch: 90\n",
      "     81/Unknown - 21s 255ms/step - loss_g: 0.3002 - loss_d: -0.0642"
     ]
    }
   ],
   "source": [
    "## 2019\n",
    "\n",
    "# T1\n",
    "t1_on_t1 = run_evaluation(\"Segan_IO_TF2_brats2019_T1\", model_epoch=124, mri_types=[\"t1\"], architecture=seganio, dataset=brats2019, tracked_metric='dice_score_0', dataset_split='validation')\n",
    "t1_on_t1['Source Modality'] = \"T1\"\n",
    "t1_on_t1['Target Modality'] = \"T1\"\n",
    "\n",
    "t1_on_t1c = run_evaluation(\"Segan_IO_TF2_brats2019_T1\", model_epoch=124, mri_types=[\"t1ce\"], architecture=seganio, dataset=brats2019, tracked_metric='dice_score_0', dataset_split='validation')\n",
    "t1_on_t1c['Source Modality'] = \"T1\"\n",
    "t1_on_t1c['Target Modality'] = \"T1c\"\n",
    "\n",
    "t1_on_t2 = run_evaluation(\"Segan_IO_TF2_brats2019_T1\", model_epoch=124, mri_types=[\"t2\"], architecture=seganio, dataset=brats2019, tracked_metric='dice_score_0', dataset_split='validation')\n",
    "t1_on_t2['Source Modality'] = \"T1\"\n",
    "t1_on_t2['Target Modality'] = \"T2\"\n",
    "\n",
    "t1_on_Flair = run_evaluation(\"Segan_IO_TF2_brats2019_T1\", model_epoch=124, mri_types=[\"flair\"], architecture=seganio, dataset=brats2019, tracked_metric='dice_score_0', dataset_split='validation')\n",
    "t1_on_Flair['Source Modality'] = \"T1\"\n",
    "t1_on_Flair['Target Modality'] = \"Flair\"\n",
    "\n",
    "# T1c\n",
    "t1c_on_t1 = run_evaluation(\"Segan_IO_TF2_brats2019_T1ce\", model_epoch=597, mri_types=[\"t1\"], architecture=seganio, dataset=brats2019, tracked_metric='dice_score_0', dataset_split='validation')\n",
    "t1c_on_t1['Source Modality'] = \"T1c\"\n",
    "t1c_on_t1['Target Modality'] = \"T1\"\n",
    "t1c_on_t1c = run_evaluation(\"Segan_IO_TF2_brats2019_T1ce\", model_epoch=597, mri_types=[\"t1ce\"], architecture=seganio, dataset=brats2019, tracked_metric='dice_score_0', dataset_split='validation')\n",
    "t1c_on_t1c['Source Modality'] = \"T1c\"\n",
    "t1c_on_t1c['Target Modality'] = \"T1c\"\n",
    "t1c_on_t2 = run_evaluation(\"Segan_IO_TF2_brats2019_T1ce\", model_epoch=597, mri_types=[\"t2\"], architecture=seganio, dataset=brats2019, tracked_metric='dice_score_0', dataset_split='validation')\n",
    "t1c_on_t2['Source Modality'] = \"T1c\"\n",
    "t1c_on_t2['Target Modality'] = \"T2\"\n",
    "t1c_on_Flair = run_evaluation(\"Segan_IO_TF2_brats2019_T1ce\", model_epoch=597, mri_types=[\"flair\"], architecture=seganio, dataset=brats2019, tracked_metric='dice_score_0', dataset_split='validation')\n",
    "t1c_on_Flair['Source Modality'] = \"T1c\"\n",
    "t1c_on_Flair['Target Modality'] = \"Flair\"\n",
    "\n",
    "# T2\n",
    "t2_on_t1 = run_evaluation(\"Segan_IO_TF2_brats2019_T2\", model_epoch=136, mri_types=[\"t1\"], architecture=seganio, dataset=brats2019, tracked_metric='dice_score_0', dataset_split='validation')\n",
    "t2_on_t1['Source Modality'] = \"T2\"\n",
    "t2_on_t1['Target Modality'] = \"T1\"\n",
    "t2_on_t1c = run_evaluation(\"Segan_IO_TF2_brats2019_T2\", model_epoch=136, mri_types=[\"t1ce\"], architecture=seganio, dataset=brats2019, tracked_metric='dice_score_0', dataset_split='validation')\n",
    "t2_on_t1c['Source Modality'] = \"T2\"\n",
    "t2_on_t1c['Target Modality'] = \"T1c\"\n",
    "t2_on_t2 = run_evaluation(\"Segan_IO_TF2_brats2019_T2\", model_epoch=136, mri_types=[\"t2\"], architecture=seganio, dataset=brats2019, tracked_metric='dice_score_0', dataset_split='validation')\n",
    "t2_on_t2['Source Modality'] = \"T2\"\n",
    "t2_on_t2['Target Modality'] = \"T2\"\n",
    "t2_on_Flair = run_evaluation(\"Segan_IO_TF2_brats2019_T2\", model_epoch=136, mri_types=[\"flair\"], architecture=seganio, dataset=brats2019, tracked_metric='dice_score_0', dataset_split='validation')\n",
    "t2_on_Flair['Source Modality'] = \"T2\"\n",
    "t2_on_Flair['Target Modality'] = \"Flair\"\n",
    "\n",
    "# FLAIR\n",
    "flair_on_t1 = run_evaluation(\"Segan_IO_TF2_brats2019_FLAIR\", model_epoch=89, mri_types=[\"t1\"], architecture=seganio, dataset=brats2019, tracked_metric='dice_score_0', dataset_split='validation')\n",
    "flair_on_t1['Source Modality'] = \"Flair\"\n",
    "flair_on_t1['Target Modality'] = \"T1\"\n",
    "flair_on_t1c = run_evaluation(\"Segan_IO_TF2_brats2019_FLAIR\", model_epoch=89, mri_types=[\"t1ce\"], architecture=seganio, dataset=brats2019, tracked_metric='dice_score_0', dataset_split='validation')\n",
    "flair_on_t1c['Source Modality'] = \"Flair\"\n",
    "flair_on_t1c['Target Modality'] = \"T1c\"\n",
    "flair_on_t2 = run_evaluation(\"Segan_IO_TF2_brats2019_FLAIR\", model_epoch=89, mri_types=[\"t2\"], architecture=seganio, dataset=brats2019, tracked_metric='dice_score_0', dataset_split='validation')\n",
    "flair_on_t2['Source Modality'] = \"Flair\"\n",
    "flair_on_t2['Target Modality'] = \"T2\"\n",
    "flair_on_Flair = run_evaluation(\"Segan_IO_TF2_brats2019_FLAIR\", model_epoch=89, mri_types=[\"flair\"], architecture=seganio, dataset=brats2019, tracked_metric='dice_score_0', dataset_split='validation')\n",
    "flair_on_Flair['Source Modality'] = \"Flair\"\n",
    "flair_on_Flair['Target Modality'] = \"Flair\""
   ]
  },
  {
   "cell_type": "code",
   "execution_count": 4,
   "metadata": {},
   "outputs": [],
   "source": [
    "base_performances = pd.DataFrame()\n",
    "base_performances = base_performances.append(t1_on_t1.reset_index(), ignore_index=True)\n",
    "base_performances = base_performances.append(t1_on_t1c.reset_index(), ignore_index=True)\n",
    "base_performances = base_performances.append(t1_on_t2.reset_index(), ignore_index=True)\n",
    "base_performances = base_performances.append(t1_on_Flair.reset_index(), ignore_index=True)\n",
    "base_performances = base_performances.append(t1c_on_t1.reset_index(), ignore_index=True)\n",
    "base_performances = base_performances.append(t1c_on_t1c.reset_index(), ignore_index=True)\n",
    "base_performances = base_performances.append(t1c_on_t2.reset_index(), ignore_index=True)\n",
    "base_performances = base_performances.append(t1c_on_Flair.reset_index(), ignore_index=True)\n",
    "base_performances = base_performances.append(t2_on_t1.reset_index(), ignore_index=True)\n",
    "base_performances = base_performances.append(t2_on_t1c.reset_index(), ignore_index=True)\n",
    "base_performances = base_performances.append(t2_on_t2.reset_index(), ignore_index=True)\n",
    "base_performances = base_performances.append(t2_on_Flair.reset_index(), ignore_index=True)\n",
    "base_performances = base_performances.append(flair_on_t1.reset_index(), ignore_index=True)\n",
    "base_performances = base_performances.append(flair_on_t1c.reset_index(), ignore_index=True)\n",
    "base_performances = base_performances.append(flair_on_t2.reset_index(), ignore_index=True)\n",
    "base_performances = base_performances.append(flair_on_Flair.reset_index(), ignore_index=True)\n",
    "\n",
    "base_performances.to_csv('results/base_models_on_other_modalities_2019.csv')"
   ]
  },
  {
   "cell_type": "markdown",
   "metadata": {},
   "source": [
    "# Transfer from FLAIR"
   ]
  },
  {
   "cell_type": "code",
   "execution_count": null,
   "metadata": {},
   "outputs": [],
   "source": [
    "transfer_t1 = run_evaluation(\"Transfer_Brats_Flair_to_T1\", model_epoch=273, mri_types=[\"MR_T1\"], architecture=seganio, dataset=brats2015, dataset_split='merged')\n",
    "transfer_t1_freeze = run_evaluation(\"Transfer_Brats_Flair_to_T1_freeze_all\", model_epoch=1122, mri_types=[\"MR_T1\"], architecture=seganio, dataset=brats2015, dataset_split='merged')\n",
    "\n",
    "transfer_t1c = run_evaluation(\"Transfer_Brats_Flair_to_T1c\", model_epoch=722, mri_types=[\"MR_T1c\"], architecture=seganio, dataset=brats2015, dataset_split='merged')\n",
    "transfer_t1c_freeze = run_evaluation(\"Transfer_Brats_Flair_to_T1c_freeze_all\", model_epoch=751, mri_types=[\"MR_T1c\"], architecture=seganio, dataset=brats2015, dataset_split='merged')\n",
    "\n",
    "transfer_t2 = run_evaluation(\"Transfer_Brats_Flair_to_T2\", model_epoch=1522, mri_types=[\"MR_T2\"], architecture=seganio, dataset=brats2015, dataset_split='merged')\n",
    "transfer_t2_freeze = run_evaluation(\"Transfer_Brats_Flair_to_T2_freeze_all\", model_epoch=649, mri_types=[\"MR_T2\"], architecture=seganio, dataset=brats2015, dataset_split='merged')\n",
    "\n",
    "transfer = pd.concat([transfer_t1, transfer_t1_freeze, transfer_t1c, transfer_t1c_freeze, transfer_t2, transfer_t2_freeze])"
   ]
  },
  {
   "cell_type": "markdown",
   "metadata": {},
   "source": [
    "## Decorating and saving CSV"
   ]
  },
  {
   "cell_type": "code",
   "execution_count": null,
   "metadata": {},
   "outputs": [],
   "source": [
    "full_results = pd.concat([basemodels, singlemod, transfer]).reset_index()\n",
    "# Extracting information from model names\n",
    "def fine_tuning(x):\n",
    "    if 'transfer' not in x.lower():\n",
    "        return 'From Scratch'\n",
    "    else:\n",
    "        if 'freeze' in x.lower():\n",
    "            return 'Generator'\n",
    "        else:\n",
    "            return 'Full'\n",
    "\n",
    "def model_type(x):\n",
    "    if 'transfer' not in x.lower():\n",
    "        return 'Base Model'\n",
    "    else:\n",
    "        return \"Transfer\"\n",
    "        \n",
    "\n",
    "def source(x):\n",
    "    modelname = x.replace('-', '_') # Fix inconsistencies in model names\n",
    "    splitted = modelname.split('_')\n",
    "    if 'transfer' not in modelname.lower():\n",
    "        source = splitted[-1]\n",
    "    else:\n",
    "        to_index = splitted.index('to')\n",
    "        source = splitted[to_index-1]\n",
    "    return source\n",
    "\n",
    "def target(x):\n",
    "    modelname = x.replace('-', '_') # Fix inconsistencies in model names\n",
    "    splitted = modelname.split('_')\n",
    "    if 'transfer' not in modelname.lower():\n",
    "        dest = splitted[-1]\n",
    "    else:\n",
    "        to_index = splitted.index('to')\n",
    "        dest = splitted[to_index+1]\n",
    "    return dest\n",
    "        \n",
    "full_results['Model Type'] = full_results['model'].apply(model_type)\n",
    "full_results['Fine Tuning'] = full_results['model'].apply(fine_tuning)\n",
    "full_results['Source Modality'] = full_results['model'].apply(source)\n",
    "full_results['Target Modality'] = full_results['model'].apply(target)\n",
    "\n"
   ]
  },
  {
   "cell_type": "code",
   "execution_count": 6,
   "metadata": {},
   "outputs": [
    {
     "ename": "NameError",
     "evalue": "name 'full_results' is not defined",
     "output_type": "error",
     "traceback": [
      "\u001b[0;31m---------------------------------------------------------------------------\u001b[0m",
      "\u001b[0;31mNameError\u001b[0m                                 Traceback (most recent call last)",
      "\u001b[0;32m<ipython-input-6-4562ba3dfaee>\u001b[0m in \u001b[0;36m<module>\u001b[0;34m\u001b[0m\n\u001b[0;32m----> 1\u001b[0;31m \u001b[0mfull_results\u001b[0m\u001b[0;34m\u001b[0m\u001b[0;34m\u001b[0m\u001b[0m\n\u001b[0m",
      "\u001b[0;31mNameError\u001b[0m: name 'full_results' is not defined"
     ]
    }
   ],
   "source": [
    "full_results.to_csv('results/model_performances_brats2015_mergedsplits.csv', index=False, index_label=False)"
   ]
  },
  {
   "cell_type": "markdown",
   "metadata": {},
   "source": [
    "# Evaluating models on other datasets"
   ]
  },
  {
   "cell_type": "code",
   "execution_count": null,
   "metadata": {},
   "outputs": [],
   "source": [
    "## 2019\n",
    "# Flair (no transfer) on other modalities\n",
    "flair2019_on_t1_2019 = run_evaluation(\"Segan_IO_TF2_brats2019_FLAIR\", model_epoch=89, mri_types=[\"t1\"], tracked_metric='dice_score_0', architecture=seganio, dataset=brats2019, dataset_split='validation')\n",
    "flair2019_on_t1ce_2019 = run_evaluation(\"Segan_IO_TF2_brats2019_FLAIR\", model_epoch=89, mri_types=[\"t1ce\"], tracked_metric='dice_score_0', architecture=seganio, dataset=brats2019, dataset_split='validation')\n",
    "flair2019_on_t2_2019 = run_evaluation(\"Segan_IO_TF2_brats2019_FLAIR\", model_epoch=89, mri_types=[\"t2\"], tracked_metric='dice_score_0', architecture=seganio, dataset=brats2019, dataset_split='validation')\n"
   ]
  },
  {
   "cell_type": "code",
   "execution_count": null,
   "metadata": {},
   "outputs": [],
   "source": [
    "flair2015_on_t1_2015 = run_evaluation(\"Segan_IO_TF2_brats_on_FLAIR\", model_epoch=168, mri_types=[\"MR_T1\"], tracked_metric='dice_score', architecture=seganio, dataset=brats2015, dataset_split='merged')\n",
    "flair2015_on_t1ce_2015 = run_evaluation(\"Segan_IO_TF2_brats_on_FLAIR\", model_epoch=168, mri_types=[\"MR_T1c\"], tracked_metric='dice_score', architecture=seganio, dataset=brats2015, dataset_split='merged')\n",
    "flair2015_on_t2_2015 = run_evaluation(\"Segan_IO_TF2_brats_on_FLAIR\", model_epoch=168, mri_types=[\"MR_T2\"], tracked_metric='dice_score', architecture=seganio, dataset=brats2015, dataset_split='merged')"
   ]
  },
  {
   "cell_type": "code",
   "execution_count": null,
   "metadata": {},
   "outputs": [],
   "source": [
    "flair2015_on_t1_2019 = run_evaluation(\"Segan_IO_TF2_brats_on_FLAIR\", model_epoch=168, mri_types=[\"t1\"], tracked_metric='dice_score', architecture=seganio, dataset=brats2019, dataset_split='validation')\n",
    "flair2015_on_t1ce_2019 = run_evaluation(\"Segan_IO_TF2_brats_on_FLAIR\", model_epoch=168, mri_types=[\"t1ce\"], tracked_metric='dice_score', architecture=seganio, dataset=brats2019, dataset_split='validation')\n",
    "flair2015_on_t2_2019 = run_evaluation(\"Segan_IO_TF2_brats_on_FLAIR\", model_epoch=168, mri_types=[\"t2\"], tracked_metric='dice_score', architecture=seganio, dataset=brats2019, dataset_split='validation')"
   ]
  },
  {
   "cell_type": "code",
   "execution_count": null,
   "metadata": {},
   "outputs": [],
   "source": [
    "flair2019_on_t1_2015 = run_evaluation(\"Segan_IO_TF2_brats2019_FLAIR\", model_epoch=89, mri_types=[\"MR_T1\"], tracked_metric='dice_score_0', architecture=seganio, dataset=brats2015, dataset_split='merged')\n",
    "flair2019_on_t1ce_2015 = run_evaluation(\"Segan_IO_TF2_brats2019_FLAIR\", model_epoch=89, mri_types=[\"MR_T1c\"], tracked_metric='dice_score_0', architecture=seganio, dataset=brats2015, dataset_split='merged')\n",
    "flair2019_on_t2_2015 = run_evaluation(\"Segan_IO_TF2_brats2019_FLAIR\", model_epoch=89, mri_types=[\"MR_T2\"], tracked_metric='dice_score_0', architecture=seganio, dataset=brats2015, dataset_split='merged')"
   ]
  },
  {
   "cell_type": "markdown",
   "metadata": {},
   "source": [
    "### Forgetting past samples"
   ]
  },
  {
   "cell_type": "code",
   "execution_count": null,
   "metadata": {},
   "outputs": [],
   "source": [
    "transfer2015_t1_on_flair2015 = run_evaluation(\"Transfer_Brats_Flair_to_T1\", model_epoch=273, mri_types=[\"MR_Flair\"], architecture=seganio, dataset=brats2015, dataset_split='merged')\n",
    "transfer2015_t1_freeze_on_flair2015 = run_evaluation(\"Transfer_Brats_Flair_to_T1_freeze_all\", model_epoch=1122, mri_types=[\"MR_Flair\"], architecture=seganio, dataset=brats2015, dataset_split='merged')\n",
    "\n",
    "transfer2015_t1_on_flair2015c = run_evaluation(\"Transfer_Brats_Flair_to_T1c\", model_epoch=722, mri_types=[\"MR_Flair\"], architecture=seganio, dataset=brats2015, dataset_split='merged')\n",
    "transfer2015_t1c_freeze_on_flair2015 = run_evaluation(\"Transfer_Brats_Flair_to_T1c_freeze_all\", model_epoch=751, mri_types=[\"MR_Flair\"], architecture=seganio, dataset=brats2015, dataset_split='merged')\n",
    "\n",
    "transfer2015_t2_on_flair2015 = run_evaluation(\"Transfer_Brats_Flair_to_T2\", model_epoch=1522, mri_types=[\"MR_Flair\"], architecture=seganio, dataset=brats2015, dataset_split='merged')\n",
    "transfer2015_t2_freeze_on_flair2015 = run_evaluation(\"Transfer_Brats_Flair_to_T2_freeze_all\", model_epoch=649, mri_types=[\"MR_Flair\"], architecture=seganio, dataset=brats2015, dataset_split='merged')"
   ]
  },
  {
   "cell_type": "code",
   "execution_count": null,
   "metadata": {},
   "outputs": [],
   "source": [
    "transfer2019_t1_on_flair2019 = run_evaluation(\"Transfer_Brats2019_Flair_to_t1\", model_epoch=144, mri_types=[\"flair\"], tracked_metric='dice_score_0', architecture=seganio, dataset=brats2019, dataset_split='validation')\n",
    "transfer2019_t1_freeze_on_flair2019 = run_evaluation(\"Transfer_Brats2019_Flair_to_t1_freeze_all\", model_epoch=1, mri_types=[\"flair\"], tracked_metric='dice_score_0', architecture=seganio, dataset=brats2019, dataset_split='validation')\n",
    "transfer2019_t1c_freeze_on_flair2019 = run_evaluation(\"Transfer_Brats2019_Flair_to_t1ce_freeze_all\", model_epoch=300, mri_types=[\"flair\"], tracked_metric='dice_score_0', architecture=seganio, dataset=brats2019, dataset_split='validation')\n",
    "transfer2019_t2_freeze_on_flair2019 = run_evaluation(\"Transfer_Brats2019_Flair_to_t2_freeze_all\", model_epoch=191, mri_types=[\"flair\"], tracked_metric='dice_score_0', architecture=seganio, dataset=brats2019, dataset_split='validation')"
   ]
  },
  {
   "cell_type": "code",
   "execution_count": null,
   "metadata": {},
   "outputs": [],
   "source": [
    "pd.concat([transfer2019_t1_on_flair2019, transfer2019_t1_freeze_on_flair2019, transfer2019_t1c_freeze_on_flair2019, transfer2019_t2_freeze_on_flair2019])"
   ]
  },
  {
   "cell_type": "code",
   "execution_count": null,
   "metadata": {},
   "outputs": [],
   "source": [
    "segan_orig_flair_2015 = run_evaluation(\"Segan_TF2_brats_on_FLAIR\", model_epoch=251, mri_types=[\"MR_Flair\"], architecture=segan_original, tracked_metric='dice_score_0', dataset=brats2015, dataset_split='merged')\n",
    "segan_orig_flair_on_t2_2015 = run_evaluation(\"Transfer_segan_original_Brats2015_Flair_to_MR_T2\", model_epoch=268, mri_types=[\"MR_T2\"], architecture=segan_original, tracked_metric='dice_score_0', dataset=brats2015, dataset_split='merged')\n",
    "segan_orig_flair_on_t2_2015_freeze = run_evaluation(\"Transfer_segan_original_Brats2015_Flair_to_MR_T2_freeze_all\", model_epoch=234, mri_types=[\"MR_T2\"], architecture=segan_original, tracked_metric='dice_score_0', dataset=brats2015, dataset_split='merged')\n",
    "pd.concat([segan_orig_flair_2015, segan_orig_flair_on_t2_2015, segan_orig_flair_on_t2_2015_freeze])"
   ]
  },
  {
   "cell_type": "markdown",
   "metadata": {},
   "source": [
    "# Graph Generation"
   ]
  },
  {
   "cell_type": "code",
   "execution_count": null,
   "metadata": {},
   "outputs": [],
   "source": [
    "# Melting data to have all the evaluation metrics as new rows\n",
    "result_to_plot = full_results.melt(id_vars=['model', 'run', 'Source Modality', 'Target Modality', 'Fine Tuning'], var_name='Metric')\n",
    "# Filtering only meaningful data\n",
    "result_to_plot = result_to_plot[result_to_plot['Metric'].isin(['dice_score', 'precision', 'sensitivity'])]\n",
    "result_to_plot = result_to_plot[result_to_plot['run']=='testing']\n",
    "result_to_plot"
   ]
  },
  {
   "cell_type": "code",
   "execution_count": null,
   "metadata": {},
   "outputs": [],
   "source": []
  },
  {
   "cell_type": "code",
   "execution_count": null,
   "metadata": {},
   "outputs": [],
   "source": [
    "plt.figure(figsize=(16, 8))\n",
    "# Filter only the Transfer models\n",
    "temp_data = result_to_plot[result_to_plot['Source Modality'] != 'ALL']\n",
    "temp_data = temp_data[temp_data['Target Modality'] != 'FLAIR']\n",
    "#sb.barplot(data=temp_data, y='value', x='Target Modality', hue='Fine Tuning')\n",
    "# Put the legend out of the figure\n",
    "sb.catplot(data=temp_data, y='value', col='Metric', hue='Fine Tuning', x='Target Modality', kind='bar', col_wrap=2, sharex=False)"
   ]
  },
  {
   "cell_type": "code",
   "execution_count": null,
   "metadata": {},
   "outputs": [],
   "source": [
    "full_results[full_results['run']=='testing']"
   ]
  },
  {
   "cell_type": "code",
   "execution_count": null,
   "metadata": {},
   "outputs": [],
   "source": []
  }
 ],
 "metadata": {
  "kernelspec": {
   "display_name": "Python 3",
   "language": "python",
   "name": "python3"
  },
  "language_info": {
   "codemirror_mode": {
    "name": "ipython",
    "version": 3
   },
   "file_extension": ".py",
   "mimetype": "text/x-python",
   "name": "python",
   "nbconvert_exporter": "python",
   "pygments_lexer": "ipython3",
   "version": "3.6.8"
  }
 },
 "nbformat": 4,
 "nbformat_minor": 2
}
