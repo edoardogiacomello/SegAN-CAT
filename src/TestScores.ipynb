{
 "cells": [
  {
   "cell_type": "code",
   "execution_count": 1,
   "metadata": {},
   "outputs": [],
   "source": [
    "import pandas as pd\n",
    "import glob"
   ]
  },
  {
   "cell_type": "markdown",
   "metadata": {},
   "source": [
    "## Print best models (validation) for each run in './models/'"
   ]
  },
  {
   "cell_type": "code",
   "execution_count": 2,
   "metadata": {},
   "outputs": [
    {
     "name": "stdout",
     "output_type": "stream",
     "text": [
      "Model: Custom_MultiFOV_brats_on_FLAIR - Best dice_score 0.8269016742706299 at epoch 159\n",
      "Model: Segan_IO_TF2_brats_on_T2 - Best dice_score 0.7209994792938232 at epoch 182\n",
      "Model: Segan_IO_TF2_brats_on_T1c - Best dice_score 0.6112254858016968 at epoch 1011\n",
      "Model: Segan_IO_TF2_bd2decide_on_T2 - Best dice_score 0.164668008685112 at epoch 3\n",
      "Model: Segan_IO_TF2_bd2decide_on_T2_alt500 - Best dice_score 0.15607543289661407 at epoch 5\n",
      "Model: Segan_IO_TF2_brats_on_T1_alt50 - Best dice_score 0.6210064888000488 at epoch 1426\n",
      "Model: Segan_IO_TF2_bd2decide_on_T1 - Best dice_score 0.20200926065444946 at epoch 2\n",
      "Model: Segan_IO_TF2_brats_on_T1 - Best dice_score 0.5665786266326904 at epoch 861\n",
      "Model: Segan_IO_TF2_brats_on_FLAIR - Best dice_score 0.8281170129776001 at epoch 168\n",
      "Model: Transfer_Brats_Flair_to_T1 - Best dice_score 0.5223069190979004 at epoch 273\n",
      "Model: Transfer_Brats_Flair_to_T1_freeze_all - Best dice_score 0.6193402409553528 at epoch 1122\n",
      "Model: transfer_bratsT2_to_B2D-freeze_all - Best dice_score 0.0 at epoch 0\n",
      "Model: Segan_IO_TF2_brats_ALL - Best dice_score 0.8703919053077698 at epoch 1123\n",
      "Model: Custom_MultiFOV_bd2decide_on_T1_alt500 - Best dice_score 0.16527503728866574 at epoch 11\n",
      "Model: Custom_MultiFOV_D6_bd2decide_on_T1_alt50 - Best dice_score 0.16217420995235446 at epoch 9\n",
      "Model: Custom_MultiFOV_G6_bd2decide_on_T1_alt50 - Best dice_score 0.1810312718153 at epoch 4\n",
      "Model: Segan_IO_TF2_bd2decide_on_T1_otherseed - Best dice_score 0.1834094077348709 at epoch 5\n",
      "Model: Segan_IO_GAP_TF2_brats_ALL_alt50 - Best dice_score 0.8823103308677673 at epoch 308\n",
      "Model: Segan_TF2_brats_ALL - Best dice_score 0.8516631722450256 at epoch 1386\n"
     ]
    }
   ],
   "source": [
    "metric='dice_score'\n",
    "for csv in glob.glob('models/*/log_valid.csv'):\n",
    "    modelname = csv.split('/')[1]\n",
    "    pdcsv = pd.read_csv(csv)\n",
    "    best = pdcsv.loc[pdcsv['dice_score'].idxmax()]\n",
    "    print(\"Model: {} - Best {} {} at epoch {}\".format(modelname, metric, best['dice_score'], best['epoch']))"
   ]
  },
  {
   "cell_type": "code",
   "execution_count": 3,
   "metadata": {},
   "outputs": [],
   "source": [
    "from DeepMRI import DeepMRI"
   ]
  },
  {
   "cell_type": "code",
   "execution_count": 4,
   "metadata": {},
   "outputs": [],
   "source": [
    "import SegAN_arch as segan_original\n",
    "import SegAN_IO_arch as seganio"
   ]
  },
  {
   "cell_type": "code",
   "execution_count": null,
   "metadata": {},
   "outputs": [],
   "source": [
    "original = DeepMRI(batch_size=64, size=160, mri_channels=4, model_name=\"Segan_TF2_brats_ALL\")\n",
    "original.load_dataset(dataset='brats', mri_types=[\"MR_T1\", \"MR_T1c\", \"MR_T2\", \"MR_Flair\"])\n",
    "original.build_model(load_model='models/Segan_TF2_brats_ALL/best_dice_score_1386-13', seed=1234567890, arch=segan_original)\n",
    "original.evaluate('results/Segan_TF2_brats_ALL_1386_valid.csv', 'validation')\n",
    "original.evaluate('results/Segan_TF2_brats_ALL_1386_test.csv', 'testing')"
   ]
  },
  {
   "cell_type": "code",
   "execution_count": null,
   "metadata": {},
   "outputs": [],
   "source": [
    "our_all = DeepMRI(batch_size=64, size=160, mri_channels=4, model_name=\"Segan_IO_TF2_brats_ALL\")\n",
    "our_all.load_dataset(dataset='brats', mri_types=[\"MR_T1\", \"MR_T1c\", \"MR_T2\", \"MR_Flair\"])\n",
    "our_all.build_model(load_model='models/Segan_IO_TF2_brats_ALL/best_dice_score_1123-51', seed=1234567890, arch=seganio)\n",
    "our_all.evaluate('results/Segan_IO_TF2_brats_ALL_1123_valid.csv', 'validation')\n",
    "our_all.evaluate('results/Segan_IO_TF2_brats_ALL_1123_test.csv', 'testing')"
   ]
  },
  {
   "cell_type": "code",
   "execution_count": 5,
   "metadata": {},
   "outputs": [
    {
     "name": "stdout",
     "output_type": "stream",
     "text": [
      "Loading dataset brats with modalities MR_Flair\n",
      "Done.\n",
      "Using architecture: SegAN_IO_arch\n",
      "Loaded history from models/Segan_IO_TF2_brats_on_FLAIR/log_train.csv\n",
      "Loaded history from models/Segan_IO_TF2_brats_on_FLAIR/log_valid.csv\n",
      "Loading models/Segan_IO_TF2_brats_on_FLAIR/best_dice_score_168-29\n"
     ]
    },
    {
     "name": "stderr",
     "output_type": "stream",
     "text": [
      "WARNING: Logging before flag parsing goes to stderr.\n",
      "W0918 15:10:06.981053 139757717718848 deprecation.py:323] From /usr/local/lib/python3.6/dist-packages/tensorflow/python/data/util/random_seed.py:58: add_dispatch_support.<locals>.wrapper (from tensorflow.python.ops.array_ops) is deprecated and will be removed in a future version.\n",
      "Instructions for updating:\n",
      "Use tf.where in 2.0, which has the same broadcast rule as np.where\n"
     ]
    },
    {
     "name": "stdout",
     "output_type": "stream",
     "text": [
      "Loaded model from: models/Segan_IO_TF2_brats_on_FLAIR/best_dice_score_168-29, next epoch: 679\n",
      "     55/Unknown - 15s 265ms/step - loss_g: 0.2808 - loss_d: -0.0649 - sensitivity: 0.8608 - specificity: 0.9983 - false_positive_rate: 0.0017 - precision: 0.9271 - dice_score: 0.8927 - balanced_accuracy: 0.9295 - smooth_dice_loss: 0.2160 - mae: 0.0051"
     ]
    },
    {
     "data": {
      "text/plain": [
       "[0.37065366,\n",
       " -0.11937185,\n",
       " 0.7504252,\n",
       " 0.9960049,\n",
       " 0.003994911,\n",
       " 0.8782691,\n",
       " 0.8025242,\n",
       " 0.8732151,\n",
       " 0.2512817,\n",
       " 0.01468059]"
      ]
     },
     "execution_count": 5,
     "metadata": {},
     "output_type": "execute_result"
    }
   ],
   "source": [
    "model_name = \"Segan_IO_TF2_brats_on_FLAIR\"\n",
    "model_epoch = 168\n",
    "model_checkpoint = 'models/' + model_name + '/' + 'best_dice_score_168-29'\n",
    "mri_types = [\"MR_Flair\"]\n",
    "dataset = 'brats'\n",
    "\n",
    "model = DeepMRI(batch_size=64, size=160, mri_channels=len(mri_types), model_name=model_name)\n",
    "model.load_dataset(dataset=dataset, mri_types=mri_types)\n",
    "model.build_model(load_model=model_checkpoint, seed=1234567890, arch=seganio)\n",
    "model.evaluate('results/'+model_name+'_'+ str(model_epoch) + '_valid.csv', 'validation')\n",
    "model.evaluate('results/'+model_name+'_'+ str(model_epoch) + '_test.csv', 'testing')\n"
   ]
  },
  {
   "cell_type": "code",
   "execution_count": 6,
   "metadata": {},
   "outputs": [
    {
     "name": "stdout",
     "output_type": "stream",
     "text": [
      "Loading dataset brats with modalities MR_T1\n",
      "Done.\n",
      "Using architecture: SegAN_IO_arch\n"
     ]
    },
    {
     "name": "stderr",
     "output_type": "stream",
     "text": [
      "W0918 15:10:43.195557 139757717718848 util.py:244] Unresolved object in checkpoint: (root).d_optimizer.iter\n",
      "W0918 15:10:43.196851 139757717718848 util.py:244] Unresolved object in checkpoint: (root).d_optimizer.decay\n",
      "W0918 15:10:43.197743 139757717718848 util.py:244] Unresolved object in checkpoint: (root).d_optimizer.learning_rate\n",
      "W0918 15:10:43.198590 139757717718848 util.py:244] Unresolved object in checkpoint: (root).d_optimizer.momentum\n",
      "W0918 15:10:43.199468 139757717718848 util.py:244] Unresolved object in checkpoint: (root).d_optimizer.rho\n",
      "W0918 15:10:43.200349 139757717718848 util.py:252] A checkpoint was restored (e.g. tf.train.Checkpoint.restore or tf.keras.Model.load_weights) but not all checkpointed values were used. See above for specific issues. Use expect_partial() on the load status object, e.g. tf.train.Checkpoint.restore(...).expect_partial(), to silence these warnings, or use assert_consumed() to make the check explicit. See https://www.tensorflow.org/alpha/guide/checkpoints#loading_mechanics for details.\n"
     ]
    },
    {
     "name": "stdout",
     "output_type": "stream",
     "text": [
      "Loaded history from models/Segan_IO_TF2_brats_on_T1/log_train.csv\n",
      "Loaded history from models/Segan_IO_TF2_brats_on_T1/log_valid.csv\n",
      "Loading models/Segan_IO_TF2_brats_on_T1/best_dice_score_861-45\n",
      "Loaded model from: models/Segan_IO_TF2_brats_on_T1/best_dice_score_861-45, next epoch: 1127\n",
      "     55/Unknown - 15s 266ms/step - loss_g: 1.1303 - loss_d: -0.3915 - sensitivity: 0.1420 - specificity: 0.9949 - false_positive_rate: 0.0051 - precision: 0.4136 - dice_score: 0.2115 - balanced_accuracy: 0.5685 - smooth_dice_loss: 0.7388 - mae: 0.0263"
     ]
    },
    {
     "data": {
      "text/plain": [
       "[1.1363714,\n",
       " -0.6970941,\n",
       " 0.5893981,\n",
       " 0.98047155,\n",
       " 0.0195284,\n",
       " 0.56555074,\n",
       " 0.56191784,\n",
       " 0.7849349,\n",
       " 0.43927717,\n",
       " 0.034241624]"
      ]
     },
     "execution_count": 6,
     "metadata": {},
     "output_type": "execute_result"
    }
   ],
   "source": [
    "model_name = \"Segan_IO_TF2_brats_on_T1\"\n",
    "model_epoch = 861\n",
    "model_checkpoint = 'models/' + model_name + '/' + 'best_dice_score_861-45'\n",
    "mri_types = [\"MR_T1\"]\n",
    "dataset = 'brats'\n",
    "\n",
    "model = DeepMRI(batch_size=64, size=160, mri_channels=len(mri_types), model_name=model_name)\n",
    "model.load_dataset(dataset=dataset, mri_types=mri_types)\n",
    "model.build_model(load_model=model_checkpoint, seed=1234567890, arch=seganio)\n",
    "model.evaluate('results/'+model_name+'_'+ str(model_epoch) + '_valid.csv', 'validation')\n",
    "model.evaluate('results/'+model_name+'_'+ str(model_epoch) + '_test.csv', 'testing')"
   ]
  },
  {
   "cell_type": "code",
   "execution_count": 7,
   "metadata": {},
   "outputs": [
    {
     "name": "stdout",
     "output_type": "stream",
     "text": [
      "Loading dataset brats with modalities MR_T1c\n"
     ]
    },
    {
     "name": "stderr",
     "output_type": "stream",
     "text": [
      "W0918 15:11:13.571243 139757717718848 util.py:244] Unresolved object in checkpoint: (root).d_optimizer.iter\n",
      "W0918 15:11:13.572699 139757717718848 util.py:244] Unresolved object in checkpoint: (root).d_optimizer.decay\n",
      "W0918 15:11:13.573829 139757717718848 util.py:244] Unresolved object in checkpoint: (root).d_optimizer.learning_rate\n",
      "W0918 15:11:13.574870 139757717718848 util.py:244] Unresolved object in checkpoint: (root).d_optimizer.momentum\n",
      "W0918 15:11:13.575880 139757717718848 util.py:244] Unresolved object in checkpoint: (root).d_optimizer.rho\n",
      "W0918 15:11:13.576885 139757717718848 util.py:252] A checkpoint was restored (e.g. tf.train.Checkpoint.restore or tf.keras.Model.load_weights) but not all checkpointed values were used. See above for specific issues. Use expect_partial() on the load status object, e.g. tf.train.Checkpoint.restore(...).expect_partial(), to silence these warnings, or use assert_consumed() to make the check explicit. See https://www.tensorflow.org/alpha/guide/checkpoints#loading_mechanics for details.\n"
     ]
    },
    {
     "name": "stdout",
     "output_type": "stream",
     "text": [
      "Done.\n",
      "Using architecture: SegAN_IO_arch\n",
      "Loaded history from models/Segan_IO_TF2_brats_on_T1c/log_train.csv\n",
      "Loaded history from models/Segan_IO_TF2_brats_on_T1c/log_valid.csv\n",
      "Loading models/Segan_IO_TF2_brats_on_T1c/best_dice_score_1011-48\n",
      "Loaded model from: models/Segan_IO_TF2_brats_on_T1c/best_dice_score_1011-48, next epoch: 1439\n",
      "     55/Unknown - 15s 269ms/step - loss_g: 1.2146 - loss_d: -0.4297 - sensitivity: 0.2040 - specificity: 0.9900 - false_positive_rate: 0.0100 - precision: 0.3420 - dice_score: 0.2556 - balanced_accuracy: 0.5970 - smooth_dice_loss: 0.7849 - mae: 0.0295"
     ]
    },
    {
     "data": {
      "text/plain": [
       "[0.8535684,\n",
       " -0.4551379,\n",
       " 0.61699086,\n",
       " 0.9886579,\n",
       " 0.011342036,\n",
       " 0.6791833,\n",
       " 0.63402075,\n",
       " 0.8028245,\n",
       " 0.3984304,\n",
       " 0.02569068]"
      ]
     },
     "execution_count": 7,
     "metadata": {},
     "output_type": "execute_result"
    }
   ],
   "source": [
    "model_name = \"Segan_IO_TF2_brats_on_T1c\"\n",
    "model_epoch = 1011\n",
    "model_checkpoint = 'models/' + model_name + '/' + 'best_dice_score_1011-48'\n",
    "mri_types = [\"MR_T1c\"]\n",
    "dataset = 'brats'\n",
    "\n",
    "model = DeepMRI(batch_size=64, size=160, mri_channels=len(mri_types), model_name=model_name)\n",
    "model.load_dataset(dataset=dataset, mri_types=mri_types)\n",
    "model.build_model(load_model=model_checkpoint, seed=1234567890, arch=seganio)\n",
    "model.evaluate('results/'+model_name+'_'+ str(model_epoch) + '_valid.csv', 'validation')\n",
    "model.evaluate('results/'+model_name+'_'+ str(model_epoch) + '_test.csv', 'testing')"
   ]
  },
  {
   "cell_type": "code",
   "execution_count": 8,
   "metadata": {},
   "outputs": [
    {
     "name": "stdout",
     "output_type": "stream",
     "text": [
      "Loading dataset brats with modalities MR_T2\n",
      "Done.\n",
      "Using architecture: SegAN_IO_arch\n",
      "Loaded history from models/Segan_IO_TF2_brats_on_T2/log_train.csv\n",
      "Loaded history from models/Segan_IO_TF2_brats_on_T2/log_valid.csv\n",
      "Loading models/Segan_IO_TF2_brats_on_T2/best_dice_score_182-25\n",
      "Loaded model from: models/Segan_IO_TF2_brats_on_T2/best_dice_score_182-25, next epoch: 666\n",
      "     53/Unknown - 14s 269ms/step - loss_g: 0.2591 - loss_d: -0.0796 - sensitivity: 0.7476 - specificity: 0.9951 - false_positive_rate: 0.0049 - precision: 0.8013 - dice_score: 0.7735 - balanced_accuracy: 0.8713 - smooth_dice_loss: 0.1795 - mae: 0.0114"
     ]
    },
    {
     "name": "stderr",
     "output_type": "stream",
     "text": [
      "W0918 15:12:04.720747 139757717718848 util.py:244] Unresolved object in checkpoint: (root).d_optimizer.iter\n",
      "W0918 15:12:04.722067 139757717718848 util.py:244] Unresolved object in checkpoint: (root).d_optimizer.decay\n",
      "W0918 15:12:04.722964 139757717718848 util.py:244] Unresolved object in checkpoint: (root).d_optimizer.learning_rate\n",
      "W0918 15:12:04.723829 139757717718848 util.py:244] Unresolved object in checkpoint: (root).d_optimizer.momentum\n",
      "W0918 15:12:04.724724 139757717718848 util.py:244] Unresolved object in checkpoint: (root).d_optimizer.rho\n",
      "W0918 15:12:04.725581 139757717718848 util.py:252] A checkpoint was restored (e.g. tf.train.Checkpoint.restore or tf.keras.Model.load_weights) but not all checkpointed values were used. See above for specific issues. Use expect_partial() on the load status object, e.g. tf.train.Checkpoint.restore(...).expect_partial(), to silence these warnings, or use assert_consumed() to make the check explicit. See https://www.tensorflow.org/alpha/guide/checkpoints#loading_mechanics for details.\n"
     ]
    },
    {
     "name": "stdout",
     "output_type": "stream",
     "text": [
      "     55/Unknown - 15s 270ms/step - loss_g: 0.3088 - loss_d: -0.0725 - sensitivity: 0.8499 - specificity: 0.9940 - false_positive_rate: 0.0060 - precision: 0.7824 - dice_score: 0.8147 - balanced_accuracy: 0.9219 - smooth_dice_loss: 0.2363 - mae: 0.0096"
     ]
    },
    {
     "data": {
      "text/plain": [
       "[0.4009847,\n",
       " -0.1249705,\n",
       " 0.758274,\n",
       " 0.99038166,\n",
       " 0.009618302,\n",
       " 0.77593154,\n",
       " 0.75653976,\n",
       " 0.8743278,\n",
       " 0.27601415,\n",
       " 0.0193854]"
      ]
     },
     "execution_count": 8,
     "metadata": {},
     "output_type": "execute_result"
    }
   ],
   "source": [
    "model_name = \"Segan_IO_TF2_brats_on_T2\"\n",
    "model_epoch = 182\n",
    "model_checkpoint = 'models/' + model_name + '/' + 'best_dice_score_182-25'\n",
    "mri_types = [\"MR_T2\"]\n",
    "dataset = 'brats'\n",
    "\n",
    "model = DeepMRI(batch_size=64, size=160, mri_channels=len(mri_types), model_name=model_name)\n",
    "model.load_dataset(dataset=dataset, mri_types=mri_types)\n",
    "model.build_model(load_model=model_checkpoint, seed=1234567890, arch=seganio)\n",
    "model.evaluate('results/'+model_name+'_'+ str(model_epoch) + '_valid.csv', 'validation')\n",
    "model.evaluate('results/'+model_name+'_'+ str(model_epoch) + '_test.csv', 'testing')"
   ]
  },
  {
   "cell_type": "code",
   "execution_count": 9,
   "metadata": {},
   "outputs": [
    {
     "name": "stdout",
     "output_type": "stream",
     "text": [
      "Loading dataset brats with modalities MR_T1\n",
      "Done.\n",
      "Using architecture: SegAN_IO_arch\n",
      "Loaded history from models/Transfer_Brats_Flair_to_T1_freeze_all/log_train.csv\n",
      "Loaded history from models/Transfer_Brats_Flair_to_T1_freeze_all/log_valid.csv\n",
      "Loading models/Transfer_Brats_Flair_to_T1_freeze_all/best_dice_score_1122-84\n",
      "Loaded model from: models/Transfer_Brats_Flair_to_T1_freeze_all/best_dice_score_1122-84, next epoch: 1397\n",
      "     55/Unknown - 15s 267ms/step - loss_g: 0.9535 - loss_d: -0.1166 - sensitivity: 0.1565 - specificity: 0.9937 - false_positive_rate: 0.0063 - precision: 0.3881 - dice_score: 0.2231 - balanced_accuracy: 0.5751 - smooth_dice_loss: 0.8369 - mae: 0.0271"
     ]
    },
    {
     "data": {
      "text/plain": [
       "[0.5816225,\n",
       " -0.15584995,\n",
       " 0.64079475,\n",
       " 0.98220736,\n",
       " 0.017792407,\n",
       " 0.6025832,\n",
       " 0.6055316,\n",
       " 0.81150097,\n",
       " 0.4257726,\n",
       " 0.030729229]"
      ]
     },
     "execution_count": 9,
     "metadata": {},
     "output_type": "execute_result"
    }
   ],
   "source": [
    "model_name = \"Transfer_Brats_Flair_to_T1_freeze_all\"\n",
    "model_epoch = 1122\n",
    "model_checkpoint = 'models/' + model_name + '/' + 'best_dice_score_1122-84'\n",
    "mri_types = [\"MR_T1\"]\n",
    "dataset = 'brats'\n",
    "\n",
    "model = DeepMRI(batch_size=64, size=160, mri_channels=len(mri_types), model_name=model_name)\n",
    "model.load_dataset(dataset=dataset, mri_types=mri_types)\n",
    "model.build_model(load_model=model_checkpoint, seed=1234567890, arch=seganio)\n",
    "model.evaluate('results/'+model_name+'_'+ str(model_epoch) + '_valid.csv', 'validation')\n",
    "model.evaluate('results/'+model_name+'_'+ str(model_epoch) + '_test.csv', 'testing')"
   ]
  },
  {
   "cell_type": "code",
   "execution_count": 10,
   "metadata": {},
   "outputs": [
    {
     "name": "stdout",
     "output_type": "stream",
     "text": [
      "Loading dataset brats with modalities MR_T1\n"
     ]
    },
    {
     "name": "stderr",
     "output_type": "stream",
     "text": [
      "W0918 15:12:52.405236 139757717718848 util.py:244] Unresolved object in checkpoint: (root).d_optimizer.iter\n",
      "W0918 15:12:52.406648 139757717718848 util.py:244] Unresolved object in checkpoint: (root).d_optimizer.decay\n",
      "W0918 15:12:52.407556 139757717718848 util.py:244] Unresolved object in checkpoint: (root).d_optimizer.learning_rate\n",
      "W0918 15:12:52.408512 139757717718848 util.py:244] Unresolved object in checkpoint: (root).d_optimizer.momentum\n",
      "W0918 15:12:52.409354 139757717718848 util.py:244] Unresolved object in checkpoint: (root).d_optimizer.rho\n",
      "W0918 15:12:52.410223 139757717718848 util.py:252] A checkpoint was restored (e.g. tf.train.Checkpoint.restore or tf.keras.Model.load_weights) but not all checkpointed values were used. See above for specific issues. Use expect_partial() on the load status object, e.g. tf.train.Checkpoint.restore(...).expect_partial(), to silence these warnings, or use assert_consumed() to make the check explicit. See https://www.tensorflow.org/alpha/guide/checkpoints#loading_mechanics for details.\n",
      "W0918 15:12:52.419387 139757717718848 util.py:244] Unresolved object in checkpoint: (root).d_optimizer.iter\n",
      "W0918 15:12:52.420330 139757717718848 util.py:244] Unresolved object in checkpoint: (root).d_optimizer.decay\n",
      "W0918 15:12:52.421195 139757717718848 util.py:244] Unresolved object in checkpoint: (root).d_optimizer.learning_rate\n",
      "W0918 15:12:52.422034 139757717718848 util.py:244] Unresolved object in checkpoint: (root).d_optimizer.momentum\n",
      "W0918 15:12:52.422872 139757717718848 util.py:244] Unresolved object in checkpoint: (root).d_optimizer.rho\n",
      "W0918 15:12:52.423704 139757717718848 util.py:252] A checkpoint was restored (e.g. tf.train.Checkpoint.restore or tf.keras.Model.load_weights) but not all checkpointed values were used. See above for specific issues. Use expect_partial() on the load status object, e.g. tf.train.Checkpoint.restore(...).expect_partial(), to silence these warnings, or use assert_consumed() to make the check explicit. See https://www.tensorflow.org/alpha/guide/checkpoints#loading_mechanics for details.\n"
     ]
    },
    {
     "name": "stdout",
     "output_type": "stream",
     "text": [
      "Done.\n",
      "Using architecture: SegAN_IO_arch\n",
      "Loaded history from models/Transfer_Brats_Flair_to_T1/log_train.csv\n",
      "Loaded history from models/Transfer_Brats_Flair_to_T1/log_valid.csv\n",
      "Loading models/Transfer_Brats_Flair_to_T1/best_dice_score_273-59\n",
      "Loaded model from: models/Transfer_Brats_Flair_to_T1/best_dice_score_273-59, next epoch: 886\n",
      "     55/Unknown - 15s 267ms/step - loss_g: 1.0309 - loss_d: -0.2268 - sensitivity: 0.1398 - specificity: 0.9902 - false_positive_rate: 0.0098 - precision: 0.2666 - dice_score: 0.1834 - balanced_accuracy: 0.5650 - smooth_dice_loss: 0.8041 - mae: 0.0309"
     ]
    },
    {
     "data": {
      "text/plain": [
       "[0.885533,\n",
       " -0.3990665,\n",
       " 0.58236456,\n",
       " 0.9720289,\n",
       " 0.027971053,\n",
       " 0.48686615,\n",
       " 0.5104857,\n",
       " 0.7771968,\n",
       " 0.48646626,\n",
       " 0.042921178]"
      ]
     },
     "execution_count": 10,
     "metadata": {},
     "output_type": "execute_result"
    }
   ],
   "source": [
    "model_name = \"Transfer_Brats_Flair_to_T1\"\n",
    "model_epoch = 273\n",
    "model_checkpoint = 'models/' + model_name + '/' + 'best_dice_score_273-59'\n",
    "mri_types = [\"MR_T1\"]\n",
    "dataset = 'brats'\n",
    "\n",
    "model = DeepMRI(batch_size=64, size=160, mri_channels=len(mri_types), model_name=model_name)\n",
    "model.load_dataset(dataset=dataset, mri_types=mri_types)\n",
    "model.build_model(load_model=model_checkpoint, seed=1234567890, arch=seganio)\n",
    "model.evaluate('results/'+model_name+'_'+ str(model_epoch) + '_valid.csv', 'validation')\n",
    "model.evaluate('results/'+model_name+'_'+ str(model_epoch) + '_test.csv', 'testing')"
   ]
  },
  {
   "cell_type": "code",
   "execution_count": 3,
   "metadata": {},
   "outputs": [],
   "source": [
    "merged_results = pd.DataFrame()\n",
    "for path in glob.glob('results/*.csv'):\n",
    "    if 'results_merged.csv' not in path:\n",
    "        data = pd.read_csv(path)\n",
    "        data['model'] = '_'.join(path.replace('results/', '').split('_')[:-2])\n",
    "        data['epoch'] = int(path.replace('results/', '').split('_')[-2])\n",
    "        data['run'] = path.replace('.csv', '').split('_')[-1]\n",
    "        merged_results= merged_results.append(data, ignore_index=True)"
   ]
  },
  {
   "cell_type": "code",
   "execution_count": 32,
   "metadata": {},
   "outputs": [],
   "source": [
    "merged_results.to_csv('results/results_merged.csv', index=False, index_label=False)"
   ]
  },
  {
   "cell_type": "code",
   "execution_count": 8,
   "metadata": {},
   "outputs": [],
   "source": [
    "import seaborn as sb\n",
    "import matplotlib.pyplot as plt"
   ]
  },
  {
   "cell_type": "code",
   "execution_count": 10,
   "metadata": {},
   "outputs": [
    {
     "data": {
      "text/plain": [
       "<matplotlib.axes._subplots.AxesSubplot at 0x7f6011e4abe0>"
      ]
     },
     "execution_count": 10,
     "metadata": {},
     "output_type": "execute_result"
    },
    {
     "data": {
      "image/png": "[encoded data removed]",
      "text/plain": [
       "<Figure size 1152x576 with 1 Axes>"
      ]
     },
     "metadata": {
      "needs_background": "light"
     },
     "output_type": "display_data"
    }
   ],
   "source": [
    "plt.figure(figsize=(16, 8))\n",
    "sb.barplot(data=merged_results, y='dice_score', x='model', hue='run')"
   ]
  },
  {
   "cell_type": "code",
   "execution_count": 34,
   "metadata": {},
   "outputs": [],
   "source": [
    "result_to_plot = merged_results.melt(id_vars=['model', 'run', 'epoch', 'datetime'])\n",
    "result_to_plot = result_to_plot[result_to_plot['variable'].isin(['dice_score', 'precision', 'sensitivity'])]\n",
    "result_to_plot = result_to_plot[result_to_plot['run']=='test']\n",
    "base_models = result_to_plot[result_to_plot['model'].apply(lambda x: 'Transfer' not in x)]\n",
    "transfer_models = result_to_plot[result_to_plot['model'].apply(lambda x: 'Transfer' not in x)]"
   ]
  },
  {
   "cell_type": "code",
   "execution_count": 39,
   "metadata": {},
   "outputs": [
    {
     "data": {
      "text/plain": [
       "<matplotlib.legend.Legend at 0x7f600ec3a5f8>"
      ]
     },
     "execution_count": 39,
     "metadata": {},
     "output_type": "execute_result"
    },
    {
     "data": {
      "image/png": "[encoded data removed]",
      "text/plain": [
       "<Figure size 1152x576 with 1 Axes>"
      ]
     },
     "metadata": {
      "needs_background": "light"
     },
     "output_type": "display_data"
    }
   ],
   "source": [
    "plt.figure(figsize=(16, 8))\n",
    "\n",
    "sb.barplot(data=base_models, y='value', x='variable', hue='model')\n",
    "# Put the legend out of the figure\n",
    "plt.legend(bbox_to_anchor=(1.05, 1), loc=2, borderaxespad=0.)"
   ]
  },
  {
   "cell_type": "code",
   "execution_count": null,
   "metadata": {},
   "outputs": [],
   "source": []
  }
 ],
 "metadata": {
  "kernelspec": {
   "display_name": "Python 3",
   "language": "python",
   "name": "python3"
  },
  "language_info": {
   "codemirror_mode": {
    "name": "ipython",
    "version": 3
   },
   "file_extension": ".py",
   "mimetype": "text/x-python",
   "name": "python",
   "nbconvert_exporter": "python",
   "pygments_lexer": "ipython3",
   "version": "3.6.8"
  }
 },
 "nbformat": 4,
 "nbformat_minor": 2
}
