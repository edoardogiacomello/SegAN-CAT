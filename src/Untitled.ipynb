{
 "cells": [
  {
   "cell_type": "code",
   "execution_count": 1,
   "metadata": {},
   "outputs": [],
   "source": [
    "import tensorflow as tf"
   ]
  },
  {
   "cell_type": "code",
   "execution_count": 6,
   "metadata": {},
   "outputs": [],
   "source": [
    "dataset = tf.data.TFRecordDataset('../datasets/{}.tfrecords'.format('brats2015-Train-all'), compression_type='GZIP')"
   ]
  },
  {
   "cell_type": "code",
   "execution_count": 9,
   "metadata": {},
   "outputs": [],
   "source": [
    "feature_description = {\n",
    "                        'mri_raw': tf.FixedLenFeature([], tf.string),\n",
    "                        'seg_raw': tf.FixedLenFeature([], tf.string),\n",
    "                        'mri_type': tf.FixedLenFeature([], tf.string),\n",
    "                        'mri_z_dimension' : tf.FixedLenFeature([], tf.int64),\n",
    "                        'mri_x_dimension' : tf.FixedLenFeature([], tf.int64),\n",
    "                        'mri_y_dimension' : tf.FixedLenFeature([], tf.int64),\n",
    "                        'mri_z_origin' : tf.FixedLenFeature([], tf.int64),\n",
    "                        'mri_x_origin' : tf.FixedLenFeature([], tf.int64),\n",
    "                        'mri_y_origin' : tf.FixedLenFeature([], tf.int64),\n",
    "                        'mri_z_spacing' : tf.FixedLenFeature([], tf.int64),\n",
    "                        'mri_x_spacing' : tf.FixedLenFeature([], tf.int64),\n",
    "                        'mri_y_spacing' : tf.FixedLenFeature([], tf.int64),\n",
    "                        'path' : tf.FixedLenFeature([], tf.string),\n",
    "                        'patient_grade' : tf.FixedLenFeature([], tf.string),\n",
    "                        'location' : tf.FixedLenFeature([], tf.string),\n",
    "                        'patient' : tf.FixedLenFeature([], tf.string),\n",
    "                        'patient_mri_seq': tf.FixedLenFeature([], tf.string),\n",
    "                        'sample_number' : tf.FixedLenFeature([], tf.string)\n",
    "                      }\n"
   ]
  },
  {
   "cell_type": "code",
   "execution_count": null,
   "metadata": {},
   "outputs": [],
   "source": []
  }
 ],
 "metadata": {
  "kernelspec": {
   "display_name": "Python 3",
   "language": "python",
   "name": "python3"
  },
  "language_info": {
   "codemirror_mode": {
    "name": "ipython",
    "version": 3
   },
   "file_extension": ".py",
   "mimetype": "text/x-python",
   "name": "python",
   "nbconvert_exporter": "python",
   "pygments_lexer": "ipython3",
   "version": "3.5.2"
  }
 },
 "nbformat": 4,
 "nbformat_minor": 2
}
