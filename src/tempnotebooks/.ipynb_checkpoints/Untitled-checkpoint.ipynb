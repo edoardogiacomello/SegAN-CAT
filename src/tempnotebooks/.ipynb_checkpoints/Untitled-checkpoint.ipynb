{
 "cells": [
  {
   "cell_type": "code",
   "execution_count": 47,
   "metadata": {},
   "outputs": [],
   "source": [
    "import itk\n",
    "import SimpleITK as sitk\n",
    "from itkwidgets import view # Show 3D image\n",
    "import mri_helpers as mh\n",
    "from ipywidgets import interact, fixed\n",
    "import numpy as np"
   ]
  },
  {
   "cell_type": "code",
   "execution_count": 48,
   "metadata": {},
   "outputs": [],
   "source": [
    "# Load the images\n",
    "decide = sitk.ReadImage('MR_T1_TSE.mha')\n",
    "brats = sitk.ReadImage('VSD.Brain.XX.O.MR_T1.54609.mha')"
   ]
  },
  {
   "cell_type": "code",
   "execution_count": 49,
   "metadata": {},
   "outputs": [
    {
     "name": "stdout",
     "output_type": "stream",
     "text": [
      "(0.57292, 0.57292, 3.9)\n",
      "(1.0, 1.0, 1.0)\n"
     ]
    }
   ],
   "source": [
    "# Show metadata for the two images\n",
    "print(decide.GetSpacing())\n",
    "print(brats.GetSpacing())"
   ]
  },
  {
   "cell_type": "code",
   "execution_count": 50,
   "metadata": {},
   "outputs": [
    {
     "data": {
      "application/vnd.jupyter.widget-view+json": {
       "model_id": "4953086410d2400088c446e37b2ecfff",
       "version_major": 2,
       "version_minor": 0
      },
      "text/plain": [
       "interactive(children=(IntSlider(value=14, description='z', max=29), Output()), _dom_classes=('widget-interact'…"
      ]
     },
     "metadata": {},
     "output_type": "display_data"
    }
   ],
   "source": [
    "mh.myshow(decide);"
   ]
  },
  {
   "cell_type": "code",
   "execution_count": 51,
   "metadata": {},
   "outputs": [
    {
     "data": {
      "application/vnd.jupyter.widget-view+json": {
       "model_id": "f2220987f13d46b8a4b6e5514154f445",
       "version_major": 2,
       "version_minor": 0
      },
      "text/plain": [
       "interactive(children=(IntSlider(value=77, description='z', max=154), Output()), _dom_classes=('widget-interact…"
      ]
     },
     "metadata": {},
     "output_type": "display_data"
    }
   ],
   "source": [
    "mh.myshow(brats);"
   ]
  },
  {
   "cell_type": "code",
   "execution_count": 8,
   "metadata": {},
   "outputs": [],
   "source": [
    "def resample(image, transform, is_label):\n",
    "    # Output image Origin, Spacing, Size, Direction are taken from the reference\n",
    "    # image in this call to Resample\n",
    "    \n",
    "    interpolator = sitk.sitkCosineWindowedSinc if not is_label alse sitk.sitkNearestNeighbor\n",
    "    default_value = 100.0\n",
    "    \n",
    "    # Building the transformation grid\n",
    "    extreme_coords = [(0,0,0),                 (0,0,image.GetDepth()),\n",
    "                      (image.GetWidth(),0,0),  (image.GetWidth(),0,image.GetDepth()),\n",
    "                      (image.GetWidth(),image.GetHeight(), 0), (image.GetWidth(),image.GetHeight(), image.GetDepth()),\n",
    "                      (0,image.GetHeight(), 0), (0,image.GetHeight(), image.GetDepth())\n",
    "                     ]\n",
    "    \n",
    "    extreme_points = [image.GetW]\n",
    "    \n",
    "    \n",
    "    \n",
    "    \n",
    "    euler2d = sitk.Euler2DTransform()\n",
    "    # Why do we set the center?\n",
    "    euler2d.SetCenter(logo.TransformContinuousIndexToPhysicalPoint(np.array(logo.GetSize())/2.0))\n",
    "    interact(resample_display, image=fixed(logo), euler2d_transform=fixed(euler2d), tx=(-128.0, 128.0,2.5), ty=(-64.0, 64.0), theta=(-np.pi/4.0,np.pi/4.0));\n",
    "    \n",
    "    euler2d.SetCenter(logo.TransformContinuousIndexToPhysicalPoint(np.array(logo.GetSize())/2.0))\n",
    "    \n",
    "    tx = 64\n",
    "    ty = 32\n",
    "    euler2d.SetTranslation((tx, ty))\n",
    "\n",
    "    \n",
    "    inv_euler2d = euler2d.GetInverse()\n",
    "\n",
    "    extreme_points_transformed = [inv_euler2d.TransformPoint(pnt) for pnt in extreme_points]\n",
    "    min_x = min(extreme_points_transformed)[0]\n",
    "    min_y = min(extreme_points_transformed, key=lambda p: p[1])[1]\n",
    "    max_x = max(extreme_points_transformed)[0]\n",
    "    max_y = max(extreme_points_transformed, key=lambda p: p[1])[1]\n",
    "\n",
    "    # Use the original spacing (arbitrary decision).\n",
    "    output_spacing = logo.GetSpacing()\n",
    "    # Identity cosine matrix (arbitrary decision).   \n",
    "    output_direction = [1.0, 0.0, 0.0, 1.0]\n",
    "    # Minimal x,y coordinates are the new origin.\n",
    "    output_origin = [min_x, min_y]\n",
    "    # Compute grid size based on the physical size and spacing.\n",
    "    output_size = [int((max_x-min_x)/output_spacing[0]), int((max_y-min_y)/output_spacing[1])]\n",
    "\n",
    "    resampled_image = sitk.Resample(logo, output_size, euler2d, sitk.sitkLinear, output_origin, output_spacing, output_direction)\n",
    "    \n",
    "    \n",
    "    \n",
    "    return sitk.Resample(image, reference_image, transform,\n",
    "                         interpolator, default_value)\n",
    "\n",
    "def affine_scale(img, transform, dimension, x_scale=3.0, y_scale=0.7):\n",
    "    new_transform = sitk.AffineTransform(transform)\n",
    "    matrix = np.array(transform.GetMatrix()).reshape((dimension,dimension))\n",
    "    matrix[0,0] = x_scale\n",
    "    matrix[1,1] = y_scale\n",
    "    new_transform.SetMatrix(matrix.ravel())\n",
    "    resampled = resample(img, new_transform)\n",
    "    mh.myshow(resampled, 'Scaled')\n",
    "    print(matrix)\n",
    "    return new_transform"
   ]
  },
  {
   "cell_type": "code",
   "execution_count": 34,
   "metadata": {},
   "outputs": [],
   "source": [
    "def scale_to_unitary_spacing(mri):\n",
    "    dimension = 3\n",
    "    affine = sitk.AffineTransform(dimension)\n",
    "    # Set the scaling for the transformation to match Spacing = 1.0\n",
    "    matrix = np.array(affine.GetMatrix()).reshape((dimension,dimension))\n",
    "    for d in range(dimension):\n",
    "        matrix[d,d] = 1.0/mri.GetSpacing()[d]\n",
    "    affine.SetMatrix(matrix.ravel())\n",
    "    return resample(mri, affine)\n"
   ]
  },
  {
   "cell_type": "code",
   "execution_count": 36,
   "metadata": {},
   "outputs": [],
   "source": [
    "rescaled = scale_to_unitary_spacing(decide)"
   ]
  },
  {
   "cell_type": "code",
   "execution_count": 39,
   "metadata": {},
   "outputs": [
    {
     "data": {
      "application/vnd.jupyter.widget-view+json": {
       "model_id": "6cba488e49f94274b426107c734a2808",
       "version_major": 2,
       "version_minor": 0
      },
      "text/plain": [
       "interactive(children=(IntSlider(value=14, description='z', max=29), Output()), _dom_classes=('widget-interact'…"
      ]
     },
     "metadata": {},
     "output_type": "display_data"
    }
   ],
   "source": [
    "mh.myshow(rescaled)"
   ]
  },
  {
   "cell_type": "code",
   "execution_count": 40,
   "metadata": {},
   "outputs": [
    {
     "data": {
      "application/vnd.jupyter.widget-view+json": {
       "model_id": "31f1f5d73d394e46be4baddbbe44d52a",
       "version_major": 2,
       "version_minor": 0
      },
      "text/plain": [
       "interactive(children=(IntSlider(value=14, description='z', max=29), Output()), _dom_classes=('widget-interact'…"
      ]
     },
     "metadata": {},
     "output_type": "display_data"
    }
   ],
   "source": [
    "mh.myshow(decide)"
   ]
  }
 ],
 "metadata": {
  "kernelspec": {
   "display_name": "Python 3",
   "language": "python",
   "name": "python3"
  },
  "language_info": {
   "codemirror_mode": {
    "name": "ipython",
    "version": 3
   },
   "file_extension": ".py",
   "mimetype": "text/x-python",
   "name": "python",
   "nbconvert_exporter": "python",
   "pygments_lexer": "ipython3",
   "version": "3.5.2"
  }
 },
 "nbformat": 4,
 "nbformat_minor": 2
}
