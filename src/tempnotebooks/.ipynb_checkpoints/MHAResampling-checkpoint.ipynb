{
 "cells": [
  {
   "cell_type": "code",
   "execution_count": 6,
   "metadata": {},
   "outputs": [],
   "source": [
    "import SimpleITK as sitk\n",
    "import numpy as np\n",
    "import mri_helpers as mh"
   ]
  },
  {
   "cell_type": "code",
   "execution_count": 9,
   "metadata": {},
   "outputs": [],
   "source": []
  },
  {
   "cell_type": "code",
   "execution_count": 19,
   "metadata": {},
   "outputs": [
    {
     "data": {
      "application/vnd.jupyter.widget-view+json": {
       "model_id": "b0c2d289865d48a3a2e84671e66b31f4",
       "version_major": 2,
       "version_minor": 0
      },
      "text/plain": [
       "interactive(children=(IntSlider(value=14, description='z', max=29), Output()), _dom_classes=('widget-interact'…"
      ]
     },
     "metadata": {},
     "output_type": "display_data"
    }
   ],
   "source": []
  },
  {
   "cell_type": "code",
   "execution_count": 36,
   "metadata": {},
   "outputs": [],
   "source": [
    "def resample_to(mha_in, mha_ref, is_label):\n",
    "    ''' Resample an image from an input space (in_size, in_spacing, in_origin) to a reference space.'''\n",
    "    # Adapted from https://gist.github.com/zivy/79d7ee0490faee1156c1277a78e4a4c4\n",
    "    b2b = sitk.ReadImage(mha_in)\n",
    "    ref = sitk.ReadImage(mha_ref)\n",
    "    s_size, s_spacing, s_origin = b2b.GetSize(), b2b.GetSpacing(), b2b.GetOrigin()\n",
    "    t_size, t_spacing, t_origin = ref.GetSize(), ref.GetSpacing(), ref.GetOrigin()\n",
    "\n",
    "    # Always use the TransformContinuousIndexToPhysicalPoint to compute an indexed point's physical coordinates as \n",
    "    # this takes into account size, spacing and direction cosines. For the vast majority of images the direction \n",
    "    # cosines are the identity matrix, but when this isn't the case simply multiplying the central index by the \n",
    "    # spacing will not yield the correct coordinates resulting in a long debugging session. \n",
    "    t_center = np.array(ref.TransformContinuousIndexToPhysicalPoint(np.array(ref.GetSize())/2.0))\n",
    "\n",
    "    dimension = b2b.GetDimension()\n",
    "\n",
    "    # Transform which maps from the reference_image to the current img with the translation mapping the image\n",
    "    # origins to each other.\n",
    "    transform = sitk.AffineTransform(dimension)\n",
    "    transform.SetMatrix(b2b.GetDirection())\n",
    "    transform.SetTranslation(np.array(b2b.GetOrigin()) - t_origin)\n",
    "    # Modify the transformation to align the centers of the original and reference image instead of their origins.\n",
    "    centering_transform = sitk.TranslationTransform(dimension)\n",
    "    img_center = np.array(b2b.TransformContinuousIndexToPhysicalPoint(np.array(b2b.GetSize())/2.0))\n",
    "    centering_transform.SetOffset(np.array(transform.GetInverse().TransformPoint(img_center) - t_center))\n",
    "    centered_transform = sitk.Transform(transform)\n",
    "    centered_transform.AddTransform(centering_transform)\n",
    "    # Using the linear interpolator as these are intensity images, if there is a need to resample a ground truth \n",
    "    # segmentation then the segmentation image should be resampled using the NearestNeighbor interpolator so that \n",
    "    # no new labels are introduced.\n",
    "    interpolator = sitk.sitkLinear if not is_label else sitk.sitkNearestNeighbor\n",
    "    return sitk.Resample(b2b, ref, centered_transform, interpolator, 0.0)\n",
    "    \n",
    "    "
   ]
  },
  {
   "cell_type": "code",
   "execution_count": 42,
   "metadata": {},
   "outputs": [],
   "source": [
    "res = resample_to('MR_T1_TSE.mha', 'VSD.Brain.XX.O.MR_T1.54609.mha', is_label=False)"
   ]
  },
  {
   "cell_type": "code",
   "execution_count": 41,
   "metadata": {},
   "outputs": [
    {
     "data": {
      "application/vnd.jupyter.widget-view+json": {
       "model_id": "c09ec05ae2104cde8d1f22505a7fcaa8",
       "version_major": 2,
       "version_minor": 0
      },
      "text/plain": [
       "interactive(children=(IntSlider(value=77, description='z', max=154), Output()), _dom_classes=('widget-interact…"
      ]
     },
     "metadata": {},
     "output_type": "display_data"
    }
   ],
   "source": [
    "mh.myshow(res)"
   ]
  },
  {
   "cell_type": "code",
   "execution_count": 16,
   "metadata": {},
   "outputs": [
    {
     "data": {
      "text/plain": [
       "2"
      ]
     },
     "execution_count": 16,
     "metadata": {},
     "output_type": "execute_result"
    }
   ],
   "source": [
    "ref.GetPixelIDValue()"
   ]
  },
  {
   "cell_type": "code",
   "execution_count": 28,
   "metadata": {},
   "outputs": [
    {
     "data": {
      "text/plain": [
       "((240, 240, 155), (1.0, 1.0, 1.0), (0.0, -239.0, 0.0))"
      ]
     },
     "execution_count": 28,
     "metadata": {},
     "output_type": "execute_result"
    }
   ],
   "source": [
    "t_size, t_spacing, t_origin\n",
    "mh.myshow(resampled)\n",
    "    r_size, r_spacing, r_origin = resampled.GetSize(), resampled.GetSpacing(), resampled.GetOrigin()"
   ]
  },
  {
   "cell_type": "code",
   "execution_count": 30,
   "metadata": {},
   "outputs": [
    {
     "data": {
      "text/plain": [
       "((240, 240, 155), (1.0, 1.0, 1.0), (0.0, -239.0, 0.0))"
      ]
     },
     "execution_count": 30,
     "metadata": {},
     "output_type": "execute_result"
    }
   ],
   "source": [
    "r_size, r_spacing, r_origin"
   ]
  },
  {
   "cell_type": "code",
   "execution_count": null,
   "metadata": {},
   "outputs": [],
   "source": []
  }
 ],
 "metadata": {
  "kernelspec": {
   "display_name": "Python 3",
   "language": "python",
   "name": "python3"
  },
  "language_info": {
   "codemirror_mode": {
    "name": "ipython",
    "version": 3
   },
   "file_extension": ".py",
   "mimetype": "text/x-python",
   "name": "python",
   "nbconvert_exporter": "python",
   "pygments_lexer": "ipython3",
   "version": "3.5.2"
  }
 },
 "nbformat": 4,
 "nbformat_minor": 2
}
