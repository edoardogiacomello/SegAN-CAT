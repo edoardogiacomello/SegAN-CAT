{
 "cells": [
  {
   "cell_type": "code",
   "execution_count": 1,
   "metadata": {},
   "outputs": [],
   "source": [
    "import tensorflow as tf\n",
    "import dataset_helpers as dh"
   ]
  },
  {
   "cell_type": "code",
   "execution_count": 2,
   "metadata": {},
   "outputs": [],
   "source": [
    "train = dh.load_dataset('../datasets/brats2015_training_crop_mri',\n",
    "                                            mri_type=['MR_T1', 'MR_T1c', 'MR_T2', 'MR_Flair'],\n",
    "                                            random_crop=[160,160,4],\n",
    "                                            batch_size=1,\n",
    "                                            prefetch_buffer=1,\n",
    "                                            clip_labels_to=1.0,\n",
    "                                            infinite=False, \n",
    "                                            cache=False\n",
    "                                            )\n",
    "val = dh.load_dataset('../datasets/brats2015_validation_crop_mri',\n",
    "                                            mri_type=['MR_T1', 'MR_T1c', 'MR_T2', 'MR_Flair'],\n",
    "                                            center_crop=[160,160,4],\n",
    "                                            batch_size=1,\n",
    "                                            prefetch_buffer=1,\n",
    "                                            clip_labels_to=1.0,\n",
    "                                            infinite=False, \n",
    "                                            cache=False\n",
    "                                            )\n",
    "test = dh.load_dataset('../datasets/brats2015_testing_crop_mri',\n",
    "                                            mri_type=['MR_T1', 'MR_T1c', 'MR_T2', 'MR_Flair'],                            \n",
    "                                            center_crop=[160,160,4],\n",
    "                                            batch_size=1,\n",
    "                                            prefetch_buffer=1,\n",
    "                                            clip_labels_to=1.0,\n",
    "                                            infinite=False, \n",
    "                                            cache=False\n",
    "                                            )"
   ]
  },
  {
   "cell_type": "code",
   "execution_count": 3,
   "metadata": {},
   "outputs": [
    {
     "name": "stdout",
     "output_type": "stream",
     "text": [
      "28031"
     ]
    }
   ],
   "source": [
    "for i, r in enumerate(train):\n",
    "    print(\"\\r\"+str(i), end=\"\")"
   ]
  },
  {
   "cell_type": "code",
   "execution_count": 4,
   "metadata": {},
   "outputs": [
    {
     "name": "stdout",
     "output_type": "stream",
     "text": [
      "3455"
     ]
    }
   ],
   "source": [
    "for i, r in enumerate(val):\n",
    "    print(\"\\r\"+str(i), end=\"\")"
   ]
  },
  {
   "cell_type": "code",
   "execution_count": 5,
   "metadata": {},
   "outputs": [
    {
     "name": "stdout",
     "output_type": "stream",
     "text": [
      "3583"
     ]
    }
   ],
   "source": [
    "for i, r in enumerate(test):\n",
    "    print(\"\\r\"+str(i), end=\"\")"
   ]
  },
  {
   "cell_type": "code",
   "execution_count": null,
   "metadata": {},
   "outputs": [],
   "source": []
  }
 ],
 "metadata": {
  "kernelspec": {
   "display_name": "Python 3",
   "language": "python",
   "name": "python3"
  },
  "language_info": {
   "codemirror_mode": {
    "name": "ipython",
    "version": 3
   },
   "file_extension": ".py",
   "mimetype": "text/x-python",
   "name": "python",
   "nbconvert_exporter": "python",
   "pygments_lexer": "ipython3",
   "version": "3.6.8"
  }
 },
 "nbformat": 4,
 "nbformat_minor": 2
}
